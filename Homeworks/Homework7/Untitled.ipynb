{
 "cells": [
  {
   "cell_type": "code",
   "execution_count": 1,
   "metadata": {},
   "outputs": [
    {
     "name": "stdout",
     "output_type": "stream",
     "text": [
      "Requirement already satisfied: Scrapy in c:\\users\\tonye iyalla\\anaconda2\\lib\\site-packages (1.5.1)\n",
      "Requirement already satisfied: lxml in c:\\users\\tonye iyalla\\anaconda2\\lib\\site-packages (from Scrapy) (4.2.5)\n",
      "Requirement already satisfied: PyDispatcher>=2.0.5 in c:\\users\\tonye iyalla\\anaconda2\\lib\\site-packages (from Scrapy) (2.0.5)\n",
      "Requirement already satisfied: Twisted>=13.1.0 in c:\\users\\tonye iyalla\\anaconda2\\lib\\site-packages (from Scrapy) (18.7.0)\n",
      "Requirement already satisfied: pyOpenSSL in c:\\users\\tonye iyalla\\anaconda2\\lib\\site-packages (from Scrapy) (18.0.0)\n",
      "Requirement already satisfied: queuelib in c:\\users\\tonye iyalla\\anaconda2\\lib\\site-packages (from Scrapy) (1.5.0)\n",
      "Requirement already satisfied: cssselect>=0.9 in c:\\users\\tonye iyalla\\anaconda2\\lib\\site-packages (from Scrapy) (1.0.3)\n",
      "Requirement already satisfied: parsel>=1.1 in c:\\users\\tonye iyalla\\anaconda2\\lib\\site-packages (from Scrapy) (1.5.1)\n",
      "Requirement already satisfied: service-identity in c:\\users\\tonye iyalla\\anaconda2\\lib\\site-packages (from Scrapy) (17.0.0)\n",
      "Requirement already satisfied: six>=1.5.2 in c:\\users\\tonye iyalla\\anaconda2\\lib\\site-packages (from Scrapy) (1.11.0)\n",
      "Requirement already satisfied: w3lib>=1.17.0 in c:\\users\\tonye iyalla\\anaconda2\\lib\\site-packages (from Scrapy) (1.19.0)\n",
      "Requirement already satisfied: zope.interface>=4.4.2 in c:\\users\\tonye iyalla\\anaconda2\\lib\\site-packages (from Twisted>=13.1.0->Scrapy) (4.5.0)\n",
      "Requirement already satisfied: constantly>=15.1 in c:\\users\\tonye iyalla\\anaconda2\\lib\\site-packages (from Twisted>=13.1.0->Scrapy) (15.1.0)\n",
      "Requirement already satisfied: incremental>=16.10.1 in c:\\users\\tonye iyalla\\anaconda2\\lib\\site-packages (from Twisted>=13.1.0->Scrapy) (17.5.0)\n",
      "Requirement already satisfied: Automat>=0.3.0 in c:\\users\\tonye iyalla\\anaconda2\\lib\\site-packages (from Twisted>=13.1.0->Scrapy) (0.7.0)\n",
      "Requirement already satisfied: hyperlink>=17.1.1 in c:\\users\\tonye iyalla\\anaconda2\\lib\\site-packages (from Twisted>=13.1.0->Scrapy) (18.0.0)\n",
      "Requirement already satisfied: PyHamcrest>=1.9.0 in c:\\users\\tonye iyalla\\anaconda2\\lib\\site-packages (from Twisted>=13.1.0->Scrapy) (1.9.0)\n",
      "Requirement already satisfied: attrs>=17.4.0 in c:\\users\\tonye iyalla\\anaconda2\\lib\\site-packages (from Twisted>=13.1.0->Scrapy) (18.2.0)\n",
      "Requirement already satisfied: cryptography>=2.2.1 in c:\\users\\tonye iyalla\\anaconda2\\lib\\site-packages (from pyOpenSSL->Scrapy) (2.3.1)\n",
      "Requirement already satisfied: functools32; python_version < \"3.0\" in c:\\users\\tonye iyalla\\anaconda2\\lib\\site-packages (from parsel>=1.1->Scrapy) (3.2.3.post2)\n",
      "Requirement already satisfied: pyasn1 in c:\\users\\tonye iyalla\\anaconda2\\lib\\site-packages (from service-identity->Scrapy) (0.4.4)\n",
      "Requirement already satisfied: pyasn1-modules in c:\\users\\tonye iyalla\\anaconda2\\lib\\site-packages (from service-identity->Scrapy) (0.2.2)\n",
      "Requirement already satisfied: setuptools in c:\\users\\tonye iyalla\\anaconda2\\lib\\site-packages (from zope.interface>=4.4.2->Twisted>=13.1.0->Scrapy) (40.2.0)\n",
      "Requirement already satisfied: idna>=2.5 in c:\\users\\tonye iyalla\\anaconda2\\lib\\site-packages (from hyperlink>=17.1.1->Twisted>=13.1.0->Scrapy) (2.7)\n",
      "Requirement already satisfied: asn1crypto>=0.21.0 in c:\\users\\tonye iyalla\\anaconda2\\lib\\site-packages (from cryptography>=2.2.1->pyOpenSSL->Scrapy) (0.24.0)\n",
      "Requirement already satisfied: enum34; python_version < \"3\" in c:\\users\\tonye iyalla\\anaconda2\\lib\\site-packages (from cryptography>=2.2.1->pyOpenSSL->Scrapy) (1.1.6)\n",
      "Requirement already satisfied: cffi!=1.11.3,>=1.7 in c:\\users\\tonye iyalla\\anaconda2\\lib\\site-packages (from cryptography>=2.2.1->pyOpenSSL->Scrapy) (1.11.5)\n",
      "Requirement already satisfied: ipaddress; python_version < \"3\" in c:\\users\\tonye iyalla\\anaconda2\\lib\\site-packages (from cryptography>=2.2.1->pyOpenSSL->Scrapy) (1.0.22)\n",
      "Requirement already satisfied: pycparser in c:\\users\\tonye iyalla\\anaconda2\\lib\\site-packages (from cffi!=1.11.3,>=1.7->cryptography>=2.2.1->pyOpenSSL->Scrapy) (2.18)\n"
     ]
    },
    {
     "name": "stderr",
     "output_type": "stream",
     "text": [
      "grin 1.2.1 requires argparse>=1.1, which is not installed.\n",
      "You are using pip version 10.0.1, however version 18.1 is available.\n",
      "You should consider upgrading via the 'python -m pip install --upgrade pip' command.\n"
     ]
    }
   ],
   "source": [
    "!pip install Scrapy"
   ]
  },
  {
   "cell_type": "code",
   "execution_count": 2,
   "metadata": {},
   "outputs": [
    {
     "name": "stdout",
     "output_type": "stream",
     "text": [
      "C:\\Users\\Tonye Iyalla\\Documents\\BigData\\big-data-python-class\\Homeworks\\Homework7\\tutorial\\tutorial\\spiders\n"
     ]
    }
   ],
   "source": [
    "cd tutorial/tutorial/spiders"
   ]
  },
  {
   "cell_type": "code",
   "execution_count": 11,
   "metadata": {},
   "outputs": [],
   "source": [
    "import requests\n",
    "from scrapy.http import TextResponse\n",
    "\n",
    "#running scrappy to get a response from a URL\n",
    "r = requests.get('https://www.goodreads.com/quotes')\n",
    "response = TextResponse(r.url, body=r.text, encoding='utf-8')"
   ]
  },
  {
   "cell_type": "code",
   "execution_count": 12,
   "metadata": {},
   "outputs": [
    {
     "data": {
      "text/plain": [
       "[u'\\nPopular Quotes\\n']"
      ]
     },
     "execution_count": 12,
     "metadata": {},
     "output_type": "execute_result"
    }
   ],
   "source": [
    " response.xpath('//title/text()').extract()"
   ]
  },
  {
   "cell_type": "code",
   "execution_count": 18,
   "metadata": {},
   "outputs": [
    {
     "data": {
      "text/plain": [
       "[u'0']"
      ]
     },
     "execution_count": 18,
     "metadata": {},
     "output_type": "execute_result"
    }
   ],
   "source": [
    "response.xpath('//a/@class=next_page').extract()"
   ]
  },
  {
   "cell_type": "code",
   "execution_count": null,
   "metadata": {},
   "outputs": [],
   "source": []
  }
 ],
 "metadata": {
  "kernelspec": {
   "display_name": "Python 2",
   "language": "python",
   "name": "python2"
  },
  "language_info": {
   "codemirror_mode": {
    "name": "ipython",
    "version": 2
   },
   "file_extension": ".py",
   "mimetype": "text/x-python",
   "name": "python",
   "nbconvert_exporter": "python",
   "pygments_lexer": "ipython2",
   "version": "2.7.15"
  }
 },
 "nbformat": 4,
 "nbformat_minor": 2
}
