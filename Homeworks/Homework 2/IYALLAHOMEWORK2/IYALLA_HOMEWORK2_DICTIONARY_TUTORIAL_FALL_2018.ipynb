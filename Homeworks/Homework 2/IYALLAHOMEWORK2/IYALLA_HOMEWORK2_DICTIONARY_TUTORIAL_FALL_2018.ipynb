{
 "cells": [
  {
   "cell_type": "markdown",
   "metadata": {},
   "source": [
    "How to create a dictionary in python. We add items in key and value pairs in a list enclosed in curly braces.\n",
    "In python, dictionary keys are unique while values may not be unique. Also, keys must be of an immutable data type \n",
    "such as strings, integers or tuples. \n",
    "For example:"
   ]
  },
  {
   "cell_type": "code",
   "execution_count": 1,
   "metadata": {},
   "outputs": [
    {
     "data": {
      "text/plain": [
       "{'Amy': 7134058990, 'Sarah': 3014568989, 'Tim': 9178889023}"
      ]
     },
     "execution_count": 1,
     "metadata": {},
     "output_type": "execute_result"
    }
   ],
   "source": [
    "telephone = {'Tim': 9178889023, 'Amy': 7134058990, 'Sarah': 3014568989}\n",
    "telephone"
   ]
  },
  {
   "cell_type": "code",
   "execution_count": 2,
   "metadata": {},
   "outputs": [
    {
     "data": {
      "text/plain": [
       "dict"
      ]
     },
     "execution_count": 2,
     "metadata": {},
     "output_type": "execute_result"
    }
   ],
   "source": [
    "type(telephone)"
   ]
  },
  {
   "cell_type": "markdown",
   "metadata": {},
   "source": [
    "To acccess a dictionary elements, we do so by using square brackets along with the key to obtain its value.\n",
    "For example to get Amy phone's number we do the following:"
   ]
  },
  {
   "cell_type": "code",
   "execution_count": 3,
   "metadata": {},
   "outputs": [
    {
     "data": {
      "text/plain": [
       "7134058990"
      ]
     },
     "execution_count": 3,
     "metadata": {},
     "output_type": "execute_result"
    }
   ],
   "source": [
    "telephone['Amy']"
   ]
  },
  {
   "cell_type": "markdown",
   "metadata": {},
   "source": [
    "If we try to access the value of a key that is not in the dictionary we will get an error. For example:"
   ]
  },
  {
   "cell_type": "code",
   "execution_count": 4,
   "metadata": {},
   "outputs": [
    {
     "ename": "KeyError",
     "evalue": "'Bill'",
     "output_type": "error",
     "traceback": [
      "\u001b[0;31m---------------------------------------------------------------------------\u001b[0m",
      "\u001b[0;31mKeyError\u001b[0m                                  Traceback (most recent call last)",
      "\u001b[0;32m<ipython-input-4-c72533eed428>\u001b[0m in \u001b[0;36m<module>\u001b[0;34m()\u001b[0m\n\u001b[0;32m----> 1\u001b[0;31m \u001b[0mtelephone\u001b[0m\u001b[0;34m[\u001b[0m\u001b[0;34m'Bill'\u001b[0m\u001b[0;34m]\u001b[0m\u001b[0;34m\u001b[0m\u001b[0m\n\u001b[0m",
      "\u001b[0;31mKeyError\u001b[0m: 'Bill'"
     ]
    }
   ],
   "source": [
    "telephone['Bill']"
   ]
  },
  {
   "cell_type": "markdown",
   "metadata": {},
   "source": [
    "To modify the value of an element, we access the element through the key and set it to its new value. \n",
    "For example if we wished to change Tim's phone number, we would do so like this below:"
   ]
  },
  {
   "cell_type": "code",
   "execution_count": 7,
   "metadata": {},
   "outputs": [
    {
     "data": {
      "text/plain": [
       "{'Amy': 7134058990, 'Sarah': 3014568989, 'Tim': 5126989072}"
      ]
     },
     "execution_count": 7,
     "metadata": {},
     "output_type": "execute_result"
    }
   ],
   "source": [
    "telephone['Tim'] = 5126989072\n",
    "telephone"
   ]
  },
  {
   "cell_type": "markdown",
   "metadata": {},
   "source": [
    "As you can see the Tim's number has been changed in our dictionary.\n",
    "\n",
    "We can also add a new entry to our dictionary without worrying about size. For example"
   ]
  },
  {
   "cell_type": "code",
   "execution_count": 8,
   "metadata": {},
   "outputs": [
    {
     "data": {
      "text/plain": [
       "{'Amy': 7134058990,\n",
       " 'Sarah': 3014568989,\n",
       " 'Steve': 2126788978,\n",
       " 'Tim': 5126989072}"
      ]
     },
     "execution_count": 8,
     "metadata": {},
     "output_type": "execute_result"
    }
   ],
   "source": [
    "telephone['Steve'] = 2126788978\n",
    "telephone"
   ]
  },
  {
   "cell_type": "markdown",
   "metadata": {},
   "source": [
    "As you can see Steve has been added to the dictionary.\n",
    "\n",
    "To delete an element from the dictionary, we would do so by either removing an entry of an element or clearing \n",
    "all data for elements in a dictionary or simply deleting the dictionary as a whole.\n",
    "\n",
    "For example, to remove a single element in the dictionary, we would do so by:"
   ]
  },
  {
   "cell_type": "code",
   "execution_count": 9,
   "metadata": {},
   "outputs": [
    {
     "data": {
      "text/plain": [
       "{'Sarah': 3014568989, 'Steve': 2126788978, 'Tim': 5126989072}"
      ]
     },
     "execution_count": 9,
     "metadata": {},
     "output_type": "execute_result"
    }
   ],
   "source": [
    "del telephone['Amy']\n",
    "telephone"
   ]
  },
  {
   "cell_type": "markdown",
   "metadata": {},
   "source": [
    "From the output we can see that Amy has been removed from out telephone dictionary.\n",
    "\n",
    "If we were to clear the entire telephone dictionary. We would do so by:"
   ]
  },
  {
   "cell_type": "code",
   "execution_count": 11,
   "metadata": {},
   "outputs": [
    {
     "data": {
      "text/plain": [
       "{}"
      ]
     },
     "execution_count": 11,
     "metadata": {},
     "output_type": "execute_result"
    }
   ],
   "source": [
    "telephone.clear()\n",
    "telephone"
   ]
  },
  {
   "cell_type": "code",
   "execution_count": null,
   "metadata": {
    "collapsed": true
   },
   "outputs": [],
   "source": [
    "As we can see from the output, our telephone dictionary is empty.\n",
    "\n",
    "To delete the entire telephone dictionary from existing, we would do so by:"
   ]
  },
  {
   "cell_type": "code",
   "execution_count": 12,
   "metadata": {},
   "outputs": [
    {
     "ename": "NameError",
     "evalue": "name 'telephone' is not defined",
     "output_type": "error",
     "traceback": [
      "\u001b[0;31m---------------------------------------------------------------------------\u001b[0m",
      "\u001b[0;31mNameError\u001b[0m                                 Traceback (most recent call last)",
      "\u001b[0;32m<ipython-input-12-6d8bded9a947>\u001b[0m in \u001b[0;36m<module>\u001b[0;34m()\u001b[0m\n\u001b[1;32m      1\u001b[0m \u001b[0;32mdel\u001b[0m \u001b[0mtelephone\u001b[0m\u001b[0;34m\u001b[0m\u001b[0m\n\u001b[0;32m----> 2\u001b[0;31m \u001b[0mtelephone\u001b[0m\u001b[0;34m\u001b[0m\u001b[0m\n\u001b[0m",
      "\u001b[0;31mNameError\u001b[0m: name 'telephone' is not defined"
     ]
    }
   ],
   "source": [
    "del telephone\n",
    "telephone"
   ]
  },
  {
   "cell_type": "markdown",
   "metadata": {},
   "source": [
    "As we can see from the error above, telephone dictionary no longer exists that is why we are not getting an empty\n",
    "list"
   ]
  },
  {
   "cell_type": "markdown",
   "metadata": {},
   "source": [
    "In python we can also merge two dictionaries. We can do so in various ways.\n",
    "Suppose we have a context dictionary and we want to merge dictionary 'people' and 'countries' to this list. We can\n",
    "do so via Solution 1 - using the update method."
   ]
  },
  {
   "cell_type": "code",
   "execution_count": 15,
   "metadata": {},
   "outputs": [],
   "source": [
    "context = {}\n",
    "people = {'Tim': 21, \"Sade\": 18, \"David\": 41}\n",
    "countries = {'Africa': 'Namibia', 'Europe': 'England', 'Asia': 'Japan'}"
   ]
  },
  {
   "cell_type": "code",
   "execution_count": null,
   "metadata": {
    "collapsed": true
   },
   "outputs": [],
   "source": [
    "Using the update method"
   ]
  },
  {
   "cell_type": "code",
   "execution_count": 16,
   "metadata": {},
   "outputs": [
    {
     "data": {
      "text/plain": [
       "{'David': 41, 'Sade': 18, 'Tim': 21}"
      ]
     },
     "execution_count": 16,
     "metadata": {},
     "output_type": "execute_result"
    }
   ],
   "source": [
    "context.update(people)\n",
    "context"
   ]
  },
  {
   "cell_type": "code",
   "execution_count": 17,
   "metadata": {},
   "outputs": [
    {
     "data": {
      "text/plain": [
       "{'Africa': 'Namibia',\n",
       " 'Asia': 'Japan',\n",
       " 'David': 41,\n",
       " 'Europe': 'England',\n",
       " 'Sade': 18,\n",
       " 'Tim': 21}"
      ]
     },
     "execution_count": 17,
     "metadata": {},
     "output_type": "execute_result"
    }
   ],
   "source": [
    "context.update(countries)\n",
    "context"
   ]
  },
  {
   "cell_type": "markdown",
   "metadata": {},
   "source": [
    "As we can see all items in people and countries dictionary has been added to the context dictionary.\n",
    "\n",
    "Another way to do this would with a copy method as well. For example:"
   ]
  },
  {
   "cell_type": "code",
   "execution_count": 18,
   "metadata": {
    "collapsed": true
   },
   "outputs": [],
   "source": [
    "allDict = {}\n",
    "people = {'Tim': 21, \"Sade\": 18, \"David\": 41}\n",
    "countries = {'Africa': 'Namibia', 'Europe': 'England', 'Asia': 'Japan'}"
   ]
  },
  {
   "cell_type": "code",
   "execution_count": 19,
   "metadata": {},
   "outputs": [
    {
     "data": {
      "text/plain": [
       "{'David': 41, 'Sade': 18, 'Tim': 21}"
      ]
     },
     "execution_count": 19,
     "metadata": {},
     "output_type": "execute_result"
    }
   ],
   "source": [
    "allDict = people.copy()\n",
    "allDict"
   ]
  },
  {
   "cell_type": "code",
   "execution_count": 20,
   "metadata": {},
   "outputs": [
    {
     "data": {
      "text/plain": [
       "{'Africa': 'Namibia',\n",
       " 'Asia': 'Japan',\n",
       " 'David': 41,\n",
       " 'Europe': 'England',\n",
       " 'Sade': 18,\n",
       " 'Tim': 21}"
      ]
     },
     "execution_count": 20,
     "metadata": {},
     "output_type": "execute_result"
    }
   ],
   "source": [
    "allDict.update(countries)\n",
    "allDict"
   ]
  },
  {
   "cell_type": "markdown",
   "metadata": {},
   "source": [
    "We can also merge one dictionary into another existing dictionary without creating a new dictionary for both to be\n",
    "merged into. For example"
   ]
  },
  {
   "cell_type": "code",
   "execution_count": 32,
   "metadata": {
    "collapsed": true
   },
   "outputs": [],
   "source": [
    "dict1 = {'bookA': 1, 'bookB': 2, 'bookC': 3}\n",
    "dict2 = {'bookC': 2, 'bookD': 4, 'bookE': 5}"
   ]
  },
  {
   "cell_type": "code",
   "execution_count": 35,
   "metadata": {},
   "outputs": [
    {
     "data": {
      "text/plain": [
       "{'bookA': 1, 'bookB': 2, 'bookC': 2, 'bookD': 4, 'bookE': 5}"
      ]
     },
     "execution_count": 35,
     "metadata": {},
     "output_type": "execute_result"
    }
   ],
   "source": [
    "dict1.update(dict2)\n",
    "dict1"
   ]
  },
  {
   "cell_type": "markdown",
   "metadata": {},
   "source": [
    "We can also do a merge is single expression as follows"
   ]
  },
  {
   "cell_type": "code",
   "execution_count": 37,
   "metadata": {},
   "outputs": [
    {
     "data": {
      "text/plain": [
       "{'bookA': 1, 'bookB': 2, 'bookC': 2, 'bookD': 4, 'bookE': 5}"
      ]
     },
     "execution_count": 37,
     "metadata": {},
     "output_type": "execute_result"
    }
   ],
   "source": [
    "dictA = {'bookA': 1, 'bookB': 2, 'bookC': 3}\n",
    "dictB = {'bookC': 2, 'bookD': 4, 'bookE': 5}\n",
    "dictC = {}\n",
    "dictC = {k: v for i in [dictA, dictB] for k, v in i.items()}\n",
    "dictC"
   ]
  },
  {
   "cell_type": "markdown",
   "metadata": {},
   "source": [
    "As we can see, using a for loop and dictionary comprehension, we have merged both dictionaries into a new \n",
    "dictionary"
   ]
  },
  {
   "cell_type": "markdown",
   "metadata": {},
   "source": [
    "Looping\n",
    "\n",
    "To loop over keys in a dictionary, we can do so as follows:"
   ]
  },
  {
   "cell_type": "code",
   "execution_count": 39,
   "metadata": {},
   "outputs": [
    {
     "name": "stdout",
     "output_type": "stream",
     "text": [
      "bookA\n",
      "bookB\n",
      "bookC\n"
     ]
    }
   ],
   "source": [
    "for key in dictA:\n",
    "    print key"
   ]
  },
  {
   "cell_type": "markdown",
   "metadata": {},
   "source": [
    "To loop over values, we do so via the key as seen below:"
   ]
  },
  {
   "cell_type": "code",
   "execution_count": 41,
   "metadata": {},
   "outputs": [
    {
     "name": "stdout",
     "output_type": "stream",
     "text": [
      "2\n",
      "4\n",
      "5\n"
     ]
    }
   ],
   "source": [
    "for key in dictB:\n",
    "    print dictB[key]"
   ]
  },
  {
   "cell_type": "markdown",
   "metadata": {},
   "source": [
    "To loop over each item in a dictionary, we can do so with help of the items method which returns a iterable View object of all key,value elements in the dictionary\n",
    "See below"
   ]
  },
  {
   "cell_type": "code",
   "execution_count": 42,
   "metadata": {},
   "outputs": [
    {
     "name": "stdout",
     "output_type": "stream",
     "text": [
      "bookC 2\n",
      "bookD 4\n",
      "bookE 5\n"
     ]
    }
   ],
   "source": [
    "for key, value in dictB.items():\n",
    "    print key,value"
   ]
  },
  {
   "cell_type": "markdown",
   "metadata": {},
   "source": [
    "Sources used in this homework:\n",
    "    http://treyhunner.com/2016/02/how-to-merge-dictionaries-in-python/ \n",
    "    https://docs.python.org/3/tutorial/datastructures.html\n",
    "    https://www.mkyong.com/python/python-how-to-loop-a-dictionary/"
   ]
  }
 ],
 "metadata": {
  "kernelspec": {
   "display_name": "Python 2",
   "language": "python",
   "name": "python2"
  },
  "language_info": {
   "codemirror_mode": {
    "name": "ipython",
    "version": 2
   },
   "file_extension": ".py",
   "mimetype": "text/x-python",
   "name": "python",
   "nbconvert_exporter": "python",
   "pygments_lexer": "ipython2",
   "version": "2.7.3"
  }
 },
 "nbformat": 4,
 "nbformat_minor": 2
}
