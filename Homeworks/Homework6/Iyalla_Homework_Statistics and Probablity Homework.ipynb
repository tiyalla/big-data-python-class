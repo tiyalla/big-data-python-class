{
 "cells": [
  {
   "cell_type": "markdown",
   "metadata": {},
   "source": [
    "# HW 6 Statistics and probability homework\n",
    "\n",
    "Complete homework notebook in a homework directory with your name and zip up the homework directory and submit it to our class blackboard/elearn site.\n",
    "Complete all the parts 6.1 to 6.5 for score of 3.  \n",
    "\n",
    "Investigate plotting, linearegression, or complex matrix manipulation to get a score of 4 or cover two additional investigations for a score of 5. \n",
    "\n",
    "## 6.1 Coin flipping "
   ]
  },
  {
   "cell_type": "code",
   "execution_count": null,
   "metadata": {
    "collapsed": true
   },
   "outputs": [],
   "source": []
  },
  {
   "cell_type": "markdown",
   "metadata": {},
   "source": [
    "\n",
    "## 6.1.1\n",
    "Write a function, flip_sum,  which generates $n$ random coin flips from a fair coin and then returns the number of heads. \n",
    "\n",
    "A fair coin is defined to be a coin where $P($heads$)=\\frac{1}{2}$\n",
    "\n",
    "The output type should be a numpy integer, hint: use random.rand()\n"
   ]
  },
  {
   "cell_type": "code",
   "execution_count": 64,
   "metadata": {},
   "outputs": [
    {
     "data": {
      "text/plain": [
       "(2, [1, 0, 1])"
      ]
     },
     "execution_count": 64,
     "metadata": {},
     "output_type": "execute_result"
    }
   ],
   "source": [
    "import numpy as np\n",
    "\n",
    "def flip_sum(num_flips):\n",
    "    heads = 0\n",
    "    coin_list = [] #results of flipping a coin\n",
    "    if(num_flips == 0):\n",
    "        num_flips = np.random.randint(5)\n",
    "    for i in range(num_flips):\n",
    "        flip_coin = np.random.randint(2)\n",
    "        coin_list.append(flip_coin)\n",
    "        if flip_coin==1: heads += 1\n",
    "            \n",
    "    return heads, coin_list #return head sum and coinlist because, I extended this method to handle other tasks\n",
    "\n",
    "flip_sum(0)"
   ]
  },
  {
   "cell_type": "markdown",
   "metadata": {},
   "source": [
    "## 6.1.2 Test it \n",
    "Check it by showing the results of 100 coins being flipped"
   ]
  },
  {
   "cell_type": "code",
   "execution_count": 65,
   "metadata": {},
   "outputs": [
    {
     "name": "stdout",
     "output_type": "stream",
     "text": [
      "coin 0\n",
      "(2, [0, 1, 0, 1])\n",
      "coin 1\n",
      "(1, [0, 0, 0, 1])\n",
      "coin 2\n",
      "(2, [1, 1])\n",
      "coin 3\n",
      "(2, [0, 1, 0, 1])\n",
      "coin 4\n",
      "(4, [1, 1, 1, 1])\n",
      "coin 5\n",
      "(1, [0, 0, 0, 1])\n",
      "coin 6\n",
      "(3, [1, 1, 1, 0])\n",
      "coin 7\n",
      "(2, [1, 0, 1, 0])\n",
      "coin 8\n",
      "(0, [])\n",
      "coin 9\n",
      "(2, [1, 1])\n",
      "coin 10\n",
      "(1, [0, 0, 1])\n",
      "coin 11\n",
      "(0, [])\n",
      "coin 12\n",
      "(0, [0, 0])\n",
      "coin 13\n",
      "(2, [1, 0, 0, 1])\n",
      "coin 14\n",
      "(0, [0])\n",
      "coin 15\n",
      "(1, [0, 0, 0, 1])\n",
      "coin 16\n",
      "(0, [0, 0])\n",
      "coin 17\n",
      "(3, [1, 0, 1, 1])\n",
      "coin 18\n",
      "(2, [1, 0, 1, 0])\n",
      "coin 19\n",
      "(1, [0, 0, 0, 1])\n",
      "coin 20\n",
      "(0, [0])\n",
      "coin 21\n",
      "(2, [1, 1])\n",
      "coin 22\n",
      "(2, [0, 1, 1, 0])\n",
      "coin 23\n",
      "(0, [])\n",
      "coin 24\n",
      "(2, [1, 1, 0, 0])\n",
      "coin 25\n",
      "(0, [0, 0])\n",
      "coin 26\n",
      "(2, [1, 1])\n",
      "coin 27\n",
      "(1, [0, 1])\n",
      "coin 28\n",
      "(2, [1, 1, 0, 0])\n",
      "coin 29\n",
      "(0, [0])\n",
      "coin 30\n",
      "(2, [0, 1, 1])\n",
      "coin 31\n",
      "(0, [0])\n",
      "coin 32\n",
      "(1, [0, 0, 1])\n",
      "coin 33\n",
      "(0, [])\n",
      "coin 34\n",
      "(1, [1, 0, 0])\n",
      "coin 35\n",
      "(0, [0])\n",
      "coin 36\n",
      "(1, [0, 1])\n",
      "coin 37\n",
      "(1, [1, 0, 0])\n",
      "coin 38\n",
      "(3, [1, 1, 1])\n",
      "coin 39\n",
      "(1, [1])\n",
      "coin 40\n",
      "(1, [1])\n",
      "coin 41\n",
      "(1, [0, 0, 1])\n",
      "coin 42\n",
      "(1, [0, 0, 0, 1])\n",
      "coin 43\n",
      "(3, [1, 1, 1])\n",
      "coin 44\n",
      "(2, [1, 0, 0, 1])\n",
      "coin 45\n",
      "(0, [0])\n",
      "coin 46\n",
      "(3, [1, 0, 1, 1])\n",
      "coin 47\n",
      "(1, [0, 0, 1])\n",
      "coin 48\n",
      "(2, [0, 1, 1])\n",
      "coin 49\n",
      "(0, [0, 0])\n",
      "coin 50\n",
      "(3, [1, 1, 0, 1])\n",
      "coin 51\n",
      "(0, [])\n",
      "coin 52\n",
      "(0, [0])\n",
      "coin 53\n",
      "(1, [0, 0, 0, 1])\n",
      "coin 54\n",
      "(1, [1])\n",
      "coin 55\n",
      "(0, [0])\n",
      "coin 56\n",
      "(0, [])\n",
      "coin 57\n",
      "(1, [1])\n",
      "coin 58\n",
      "(0, [])\n",
      "coin 59\n",
      "(2, [0, 1, 0, 1])\n",
      "coin 60\n",
      "(2, [1, 0, 0, 1])\n",
      "coin 61\n",
      "(1, [1, 0, 0])\n",
      "coin 62\n",
      "(0, [])\n",
      "coin 63\n",
      "(2, [1, 0, 0, 1])\n",
      "coin 64\n",
      "(0, [0, 0, 0])\n",
      "coin 65\n",
      "(0, [])\n",
      "coin 66\n",
      "(1, [0, 1, 0])\n",
      "coin 67\n",
      "(2, [1, 0, 0, 1])\n",
      "coin 68\n",
      "(0, [])\n",
      "coin 69\n",
      "(2, [0, 1, 1, 0])\n",
      "coin 70\n",
      "(2, [1, 1])\n",
      "coin 71\n",
      "(1, [1])\n",
      "coin 72\n",
      "(1, [1, 0])\n",
      "coin 73\n",
      "(0, [0])\n",
      "coin 74\n",
      "(1, [1, 0])\n",
      "coin 75\n",
      "(3, [1, 1, 1])\n",
      "coin 76\n",
      "(1, [1])\n",
      "coin 77\n",
      "(1, [0, 0, 1])\n",
      "coin 78\n",
      "(4, [1, 1, 1, 1])\n",
      "coin 79\n",
      "(0, [])\n",
      "coin 80\n",
      "(1, [0, 0, 1, 0])\n",
      "coin 81\n",
      "(4, [1, 1, 1, 1])\n",
      "coin 82\n",
      "(3, [1, 0, 1, 1])\n",
      "coin 83\n",
      "(1, [1])\n",
      "coin 84\n",
      "(3, [0, 1, 1, 1])\n",
      "coin 85\n",
      "(1, [0, 0, 1])\n",
      "coin 86\n",
      "(1, [0, 1])\n",
      "coin 87\n",
      "(0, [])\n",
      "coin 88\n",
      "(0, [])\n",
      "coin 89\n",
      "(2, [1, 1, 0])\n",
      "coin 90\n",
      "(1, [1, 0, 0])\n",
      "coin 91\n",
      "(0, [0])\n",
      "coin 92\n",
      "(1, [0, 1, 0])\n",
      "coin 93\n",
      "(2, [1, 1])\n",
      "coin 94\n",
      "(1, [1])\n",
      "coin 95\n",
      "(0, [0])\n",
      "coin 96\n",
      "(0, [0, 0])\n",
      "coin 97\n",
      "(1, [1])\n",
      "coin 98\n",
      "(0, [0, 0, 0, 0])\n",
      "coin 99\n",
      "(2, [0, 1, 1])\n"
     ]
    }
   ],
   "source": [
    "def printCoins(num_coins, n):\n",
    "    for i in range(num_coins):\n",
    "        print \"coin\", i\n",
    "        print(flip_sum(n))\n",
    "        \n",
    "printCoins(100, 0)"
   ]
  },
  {
   "cell_type": "markdown",
   "metadata": {},
   "source": [
    "## 6.1.3 Create and display a histogram of 200 experiments of flipping 5 coins."
   ]
  },
  {
   "cell_type": "code",
   "execution_count": 95,
   "metadata": {},
   "outputs": [
    {
     "name": "stdout",
     "output_type": "stream",
     "text": [
      "coin 0\n"
     ]
    },
    {
     "data": {
      "image/png": "[encoded data removed]",
      "text/plain": [
       "<Figure size 432x288 with 1 Axes>"
      ]
     },
     "metadata": {
      "needs_background": "light"
     },
     "output_type": "display_data"
    },
    {
     "name": "stdout",
     "output_type": "stream",
     "text": [
      "coin 1\n"
     ]
    },
    {
     "data": {
      "image/png": "[encoded data removed]",
      "text/plain": [
       "<Figure size 432x288 with 1 Axes>"
      ]
     },
     "metadata": {
      "needs_background": "light"
     },
     "output_type": "display_data"
    },
    {
     "name": "stdout",
     "output_type": "stream",
     "text": [
      "coin 2\n"
     ]
    },
    {
     "data": {
      "image/png": "[encoded data removed]",
      "text/plain": [
       "<Figure size 432x288 with 1 Axes>"
      ]
     },
     "metadata": {
      "needs_background": "light"
     },
     "output_type": "display_data"
    },
    {
     "name": "stdout",
     "output_type": "stream",
     "text": [
      "coin 3\n"
     ]
    },
    {
     "data": {
      "image/png": "[encoded data removed]",
      "text/plain": [
       "<Figure size 432x288 with 1 Axes>"
      ]
     },
     "metadata": {
      "needs_background": "light"
     },
     "output_type": "display_data"
    },
    {
     "name": "stdout",
     "output_type": "stream",
     "text": [
      "coin 4\n"
     ]
    },
    {
     "data": {
      "image/png": "[encoded data removed]",
      "text/plain": [
       "<Figure size 432x288 with 1 Axes>"
      ]
     },
     "metadata": {
      "needs_background": "light"
     },
     "output_type": "display_data"
    }
   ],
   "source": [
    "import matplotlib.pyplot as plt\n",
    "import numpy as np\n",
    "for i in range(5):\n",
    "    print \"coin\", i\n",
    "    sum = flip_sum(200)\n",
    "    np.data = sum[1]\n",
    "    n, bins, patches = plt.hist(sum[1], 10,normed=True)  \n",
    "    plt.title(\"Histogram of 200 experiments for coin\")\n",
    "    plt.show()"
   ]
  },
  {
   "cell_type": "markdown",
   "metadata": {},
   "source": [
    "## 6.1.4\n",
    "Write a function, estimate_prob, that uses flip_sum to estimate the following probability:\n",
    "\n",
    "$P(  k_1 <= $ number of heads in $n$ flips $< k_2 ) $\n",
    "\n",
    "The function should estimate the probability by running $m$ different trials of flip_sum(n), probably using a for loop.\n",
    "\n",
    "In order to receive full credit estimate_prob call flip_sum (aka: flip_sum is located inside the estimate_prob function)"
   ]
  },
  {
   "cell_type": "code",
   "execution_count": 6,
   "metadata": {},
   "outputs": [],
   "source": [
    "def estimate_prob(n,k1,k2,m):\n",
    "    count = 0.0\n",
    "    for i in range(m):\n",
    "        heads = flip_sum(n)\n",
    "        if(k1 <= heads[0] and heads[0] < k2):\n",
    "            count+=1.0\n",
    "    prob = count/m\n",
    "    return prob"
   ]
  },
  {
   "cell_type": "code",
   "execution_count": 7,
   "metadata": {},
   "outputs": [
    {
     "name": "stdout",
     "output_type": "stream",
     "text": [
      "0.687\n",
      "does x==0.687?\n"
     ]
    }
   ],
   "source": [
    "# this is a small sanity check\n",
    "\n",
    "\n",
    "x = estimate_prob(100,45,55,1000)\n",
    "print x\n",
    "assert 'float' in str(type(x))\n",
    "print \"does x==0.687?\""
   ]
  },
  {
   "cell_type": "markdown",
   "metadata": {},
   "source": [
    "## 6.2.2  Calculate the actual probablities and compare it to your estimates for:\n",
    "n= number of coins\n",
    "k1 = min number of heads\n",
    "k2 = upper limit of number of heads\n",
    "m = the number of experiments\n",
    "### 6.2.2.a n=100, k1 = 40, k2=60 m=100\n"
   ]
  },
  {
   "cell_type": "code",
   "execution_count": 8,
   "metadata": {},
   "outputs": [
    {
     "name": "stdout",
     "output_type": "stream",
     "text": [
      "Estimated probability\n",
      "0.98\n",
      "Actual probability\n",
      "0.4963\n"
     ]
    }
   ],
   "source": [
    "print(\"Estimated probability\")\n",
    "prob = estimate_prob(100,40,60,100)\n",
    "print prob\n",
    "print(\"Actual probability\")\n",
    "total_heads =0.0\n",
    "for i in range(100):\n",
    "    heads = flip_sum(100)\n",
    "    total_heads+= heads[0]\n",
    "actualProb = total_heads/(100*100)\n",
    "print actualProb"
   ]
  },
  {
   "cell_type": "markdown",
   "metadata": {},
   "source": [
    "### 6.2.2.b n=100, k1 = 40, k2=60 m=1000"
   ]
  },
  {
   "cell_type": "code",
   "execution_count": 9,
   "metadata": {},
   "outputs": [
    {
     "name": "stdout",
     "output_type": "stream",
     "text": [
      "Estimated probability\n",
      "0.94\n",
      "Actual probability\n",
      "0.5065\n"
     ]
    }
   ],
   "source": [
    "print(\"Estimated probability\")\n",
    "prob = estimate_prob(100,40,60,100)\n",
    "print prob\n",
    "print(\"Actual probability\")\n",
    "total_heads =0.0\n",
    "for i in range(100):\n",
    "    heads = flip_sum(100)\n",
    "    total_heads+= heads[0]\n",
    "actualProb = total_heads/(100*100)\n",
    "print actualProb"
   ]
  },
  {
   "cell_type": "markdown",
   "metadata": {},
   "source": [
    "# 6.3 Conditional probablity"
   ]
  },
  {
   "cell_type": "markdown",
   "metadata": {},
   "source": [
    "In a recent study, the following data were obtained in response to the question\"\n",
    "    \"Do you favor the proposal of the school’s combining the elementary and middle school students in one building?\"\n",
    "    \n",
    "Answers = [Yes, No, No opinion]\n",
    "Males = [75, 89, 10]\n",
    "Females = [105, 56, 6]\n",
    "\n",
    "If a person is selected at random, find these probabilities solving using python.\n",
    "1. The person has no opinion\n",
    "2. The person is a male or is against the issue.\n",
    "3. The person is a female, given that the person opposes the issue."
   ]
  },
  {
   "cell_type": "code",
   "execution_count": 5,
   "metadata": {
    "scrolled": true
   },
   "outputs": [
    {
     "name": "stdout",
     "output_type": "stream",
     "text": [
      "341\n"
     ]
    }
   ],
   "source": [
    "Answers = ['Yes', 'No', 'No opinion'] \n",
    "Males = [75, 89, 10]\n",
    "Females =  [105, 56, 6]\n",
    "totalPeople = sum(Males) +sum(Females)\n",
    "print(totalPeople)"
   ]
  },
  {
   "cell_type": "code",
   "execution_count": null,
   "metadata": {},
   "outputs": [],
   "source": [
    "1. The person has no opinion"
   ]
  },
  {
   "cell_type": "code",
   "execution_count": 7,
   "metadata": {},
   "outputs": [
    {
     "name": "stdout",
     "output_type": "stream",
     "text": [
      "0.0469208211144\n"
     ]
    }
   ],
   "source": [
    "count=0.0\n",
    "for x in range(len(Answers)):\n",
    "    if Answers[x] == \"No opinion\": \n",
    "        count= Males[x]+Females[x]  \n",
    "print(float(count)/float(totalPeople))"
   ]
  },
  {
   "cell_type": "code",
   "execution_count": null,
   "metadata": {},
   "outputs": [],
   "source": [
    "2. The person is a male or is against the issue."
   ]
  },
  {
   "cell_type": "code",
   "execution_count": 8,
   "metadata": {},
   "outputs": [
    {
     "name": "stdout",
     "output_type": "stream",
     "text": [
      "0.674486803519\n"
     ]
    }
   ],
   "source": [
    "count=0.0\n",
    "for x in range(len(Answers)):\n",
    "    if Answers[x] == \"No\":\n",
    "        count += Females[x]\n",
    "count=count+sum(Males)\n",
    "print(float(count)/float(totalPeople))"
   ]
  },
  {
   "cell_type": "code",
   "execution_count": null,
   "metadata": {},
   "outputs": [],
   "source": [
    "3. The person is a female, given that the person opposes the issue."
   ]
  },
  {
   "cell_type": "code",
   "execution_count": 9,
   "metadata": {},
   "outputs": [
    {
     "name": "stdout",
     "output_type": "stream",
     "text": [
      "0.1642228739\n"
     ]
    }
   ],
   "source": [
    "count=0.0\n",
    "for x in range(len(Answers)):\n",
    "    if Answers[x] == \"No\":\n",
    "        count= Females[x]\n",
    "print(float(count)/float(totalPeople))"
   ]
  },
  {
   "cell_type": "markdown",
   "metadata": {},
   "source": [
    "## 6.4 Matrix creation\n",
    "Write a 12 by 12 times table matrix shown below.\n",
    "Do this\n",
    "6.4.1 using nested for loops\n",
    "6.4.2 using numpy fromfunction array constructor\n",
    "6.4.3 using numpy broadcasting"
   ]
  },
  {
   "cell_type": "code",
   "execution_count": 10,
   "metadata": {},
   "outputs": [
    {
     "data": {
      "text/plain": [
       "array([[  1,   2,   3,   4,   5,   6,   7,   8,   9,  10,  11,  12],\n",
       "       [  2,   4,   6,   8,  10,  12,  14,  16,  18,  20,  22,  24],\n",
       "       [  3,   6,   9,  12,  15,  18,  21,  24,  27,  30,  33,  36],\n",
       "       [  4,   8,  12,  16,  20,  24,  28,  32,  36,  40,  44,  48],\n",
       "       [  5,  10,  15,  20,  25,  30,  35,  40,  45,  50,  55,  60],\n",
       "       [  6,  12,  18,  24,  30,  36,  42,  48,  54,  60,  66,  72],\n",
       "       [  7,  14,  21,  28,  35,  42,  49,  56,  63,  70,  77,  84],\n",
       "       [  8,  16,  24,  32,  40,  48,  56,  64,  72,  80,  88,  96],\n",
       "       [  9,  18,  27,  36,  45,  54,  63,  72,  81,  90,  99, 108],\n",
       "       [ 10,  20,  30,  40,  50,  60,  70,  80,  90, 100, 110, 120],\n",
       "       [ 11,  22,  33,  44,  55,  66,  77,  88,  99, 110, 121, 132],\n",
       "       [ 12,  24,  36,  48,  60,  72,  84,  96, 108, 120, 132, 144]])"
      ]
     },
     "execution_count": 10,
     "metadata": {},
     "output_type": "execute_result"
    }
   ],
   "source": [
    "from numpy import array \n",
    "array([[  1,   2,   3,   4,   5,   6,   7,   8,   9,  10,  11,  12],\n",
    "   [  2,   4,   6,   8,  10,  12,  14,  16,  18,  20,  22,  24],\n",
    "   [  3,   6,   9,  12,  15,  18,  21,  24,  27,  30,  33,  36],\n",
    "   [  4,   8,  12,  16,  20,  24,  28,  32,  36,  40,  44,  48],\n",
    "   [  5,  10,  15,  20,  25,  30,  35,  40,  45,  50,  55,  60],\n",
    "   [  6,  12,  18,  24,  30,  36,  42,  48,  54,  60,  66,  72],\n",
    "   [  7,  14,  21,  28,  35,  42,  49,  56,  63,  70,  77,  84],\n",
    "   [  8,  16,  24,  32,  40,  48,  56,  64,  72,  80,  88,  96],\n",
    "   [  9,  18,  27,  36,  45,  54,  63,  72,  81,  90,  99, 108],\n",
    "   [ 10,  20,  30,  40,  50,  60,  70,  80,  90, 100, 110, 120],\n",
    "   [ 11,  22,  33,  44,  55,  66,  77,  88,  99, 110, 121, 132],\n",
    "   [ 12,  24,  36,  48,  60,  72,  84,  96, 108, 120, 132, 144]])"
   ]
  },
  {
   "cell_type": "code",
   "execution_count": null,
   "metadata": {},
   "outputs": [],
   "source": [
    "6.4.1"
   ]
  },
  {
   "cell_type": "code",
   "execution_count": 33,
   "metadata": {},
   "outputs": [
    {
     "name": "stdout",
     "output_type": "stream",
     "text": [
      "1    2    3    4    5    6    7    8    9    10    11    12    \n",
      "\n",
      "2    4    6    8    10    12    14    16    18    20    22    24    \n",
      "\n",
      "3    6    9    12    15    18    21    24    27    30    33    36    \n",
      "\n",
      "4    8    12    16    20    24    28    32    36    40    44    48    \n",
      "\n",
      "5    10    15    20    25    30    35    40    45    50    55    60    \n",
      "\n",
      "6    12    18    24    30    36    42    48    54    60    66    72    \n",
      "\n",
      "7    14    21    28    35    42    49    56    63    70    77    84    \n",
      "\n",
      "8    16    24    32    40    48    56    64    72    80    88    96    \n",
      "\n",
      "9    18    27    36    45    54    63    72    81    90    99    108    \n",
      "\n",
      "10    20    30    40    50    60    70    80    90    100    110    120    \n",
      "\n",
      "11    22    33    44    55    66    77    88    99    110    121    132    \n",
      "\n",
      "12    24    36    48    60    72    84    96    108    120    132    144    \n",
      "\n"
     ]
    }
   ],
   "source": [
    "sum=1\n",
    "k = 1\n",
    "for i in range(1,13):\n",
    "    for j in range(1,13):\n",
    "        print i*j,\"  \",\n",
    "    print(\"\\n\")"
   ]
  },
  {
   "cell_type": "markdown",
   "metadata": {},
   "source": [
    "6.4.2"
   ]
  },
  {
   "cell_type": "code",
   "execution_count": 55,
   "metadata": {},
   "outputs": [
    {
     "data": {
      "text/plain": [
       "array([[  1,   2,   3,   4,   5,   6,   7,   8,   9,  10,  11,  12],\n",
       "       [  2,   4,   6,   8,  10,  12,  14,  16,  18,  20,  22,  24],\n",
       "       [  3,   6,   9,  12,  15,  18,  21,  24,  27,  30,  33,  36],\n",
       "       [  4,   8,  12,  16,  20,  24,  28,  32,  36,  40,  44,  48],\n",
       "       [  5,  10,  15,  20,  25,  30,  35,  40,  45,  50,  55,  60],\n",
       "       [  6,  12,  18,  24,  30,  36,  42,  48,  54,  60,  66,  72],\n",
       "       [  7,  14,  21,  28,  35,  42,  49,  56,  63,  70,  77,  84],\n",
       "       [  8,  16,  24,  32,  40,  48,  56,  64,  72,  80,  88,  96],\n",
       "       [  9,  18,  27,  36,  45,  54,  63,  72,  81,  90,  99, 108],\n",
       "       [ 10,  20,  30,  40,  50,  60,  70,  80,  90, 100, 110, 120],\n",
       "       [ 11,  22,  33,  44,  55,  66,  77,  88,  99, 110, 121, 132],\n",
       "       [ 12,  24,  36,  48,  60,  72,  84,  96, 108, 120, 132, 144]])"
      ]
     },
     "execution_count": 55,
     "metadata": {},
     "output_type": "execute_result"
    }
   ],
   "source": [
    "import numpy as np\n",
    "\n",
    "np.fromfunction(lambda i, j: (i+1)+(j*(i+1)) , (12, 12), dtype=int)"
   ]
  },
  {
   "cell_type": "markdown",
   "metadata": {},
   "source": [
    "6.4.3"
   ]
  },
  {
   "cell_type": "code",
   "execution_count": 59,
   "metadata": {},
   "outputs": [
    {
     "data": {
      "text/plain": [
       "array([[  1,   2,   3,   4,   5,   6,   7,   8,   9,  10,  11,  12],\n",
       "       [  2,   4,   6,   8,  10,  12,  14,  16,  18,  20,  22,  24],\n",
       "       [  3,   6,   9,  12,  15,  18,  21,  24,  27,  30,  33,  36],\n",
       "       [  4,   8,  12,  16,  20,  24,  28,  32,  36,  40,  44,  48],\n",
       "       [  5,  10,  15,  20,  25,  30,  35,  40,  45,  50,  55,  60],\n",
       "       [  6,  12,  18,  24,  30,  36,  42,  48,  54,  60,  66,  72],\n",
       "       [  7,  14,  21,  28,  35,  42,  49,  56,  63,  70,  77,  84],\n",
       "       [  8,  16,  24,  32,  40,  48,  56,  64,  72,  80,  88,  96],\n",
       "       [  9,  18,  27,  36,  45,  54,  63,  72,  81,  90,  99, 108],\n",
       "       [ 10,  20,  30,  40,  50,  60,  70,  80,  90, 100, 110, 120],\n",
       "       [ 11,  22,  33,  44,  55,  66,  77,  88,  99, 110, 121, 132],\n",
       "       [ 12,  24,  36,  48,  60,  72,  84,  96, 108, 120, 132, 144]])"
      ]
     },
     "execution_count": 59,
     "metadata": {},
     "output_type": "execute_result"
    }
   ],
   "source": [
    "a = np.array([[1],[2],[3],[4],[5],[6],[7],[8],[9],[10],[11],[12]])\n",
    "b = np.array([1,2,3,4,5,6,7,8,9,10,11,12])\n",
    "matrix=a*b\n",
    "matrix"
   ]
  },
  {
   "cell_type": "markdown",
   "metadata": {
    "collapsed": true
   },
   "source": [
    "## 6.5 \n",
    "Answer the following questions with respect to the\n",
    "https://data.cdc.gov/NCHS/NCHS-Leading-Causes-of-Death-United-States/bi63-dtpu\n",
    "    \n",
    "    \n",
    "How many patients were censored?\n",
    "What is the correlation coefficient between state and Suicide for deaths above 100 ?\n",
    "What is the average deaths for each state and type of cause ?\n",
    "What is the year that was the most deadly for each cause name ?"
   ]
  },
  {
   "cell_type": "code",
   "execution_count": 61,
   "metadata": {},
   "outputs": [
    {
     "data": {
      "text/html": [
       "<div>\n",
       "<style scoped>\n",
       "    .dataframe tbody tr th:only-of-type {\n",
       "        vertical-align: middle;\n",
       "    }\n",
       "\n",
       "    .dataframe tbody tr th {\n",
       "        vertical-align: top;\n",
       "    }\n",
       "\n",
       "    .dataframe thead th {\n",
       "        text-align: right;\n",
       "    }\n",
       "</style>\n",
       "<table border=\"1\" class=\"dataframe\">\n",
       "  <thead>\n",
       "    <tr style=\"text-align: right;\">\n",
       "      <th></th>\n",
       "      <th>Year</th>\n",
       "      <th>113 Cause Name</th>\n",
       "      <th>Cause Name</th>\n",
       "      <th>State</th>\n",
       "      <th>Deaths</th>\n",
       "      <th>Age-adjusted Death Rate</th>\n",
       "    </tr>\n",
       "  </thead>\n",
       "  <tbody>\n",
       "    <tr>\n",
       "      <th>0</th>\n",
       "      <td>2016</td>\n",
       "      <td>Accidents (unintentional injuries) (V01-X59,Y8...</td>\n",
       "      <td>Unintentional injuries</td>\n",
       "      <td>Alabama</td>\n",
       "      <td>2755</td>\n",
       "      <td>55.5</td>\n",
       "    </tr>\n",
       "    <tr>\n",
       "      <th>1</th>\n",
       "      <td>2016</td>\n",
       "      <td>Accidents (unintentional injuries) (V01-X59,Y8...</td>\n",
       "      <td>Unintentional injuries</td>\n",
       "      <td>Alaska</td>\n",
       "      <td>439</td>\n",
       "      <td>63.1</td>\n",
       "    </tr>\n",
       "    <tr>\n",
       "      <th>2</th>\n",
       "      <td>2016</td>\n",
       "      <td>Accidents (unintentional injuries) (V01-X59,Y8...</td>\n",
       "      <td>Unintentional injuries</td>\n",
       "      <td>Arizona</td>\n",
       "      <td>4010</td>\n",
       "      <td>54.2</td>\n",
       "    </tr>\n",
       "    <tr>\n",
       "      <th>3</th>\n",
       "      <td>2016</td>\n",
       "      <td>Accidents (unintentional injuries) (V01-X59,Y8...</td>\n",
       "      <td>Unintentional injuries</td>\n",
       "      <td>Arkansas</td>\n",
       "      <td>1604</td>\n",
       "      <td>51.8</td>\n",
       "    </tr>\n",
       "    <tr>\n",
       "      <th>4</th>\n",
       "      <td>2016</td>\n",
       "      <td>Accidents (unintentional injuries) (V01-X59,Y8...</td>\n",
       "      <td>Unintentional injuries</td>\n",
       "      <td>California</td>\n",
       "      <td>13213</td>\n",
       "      <td>32.0</td>\n",
       "    </tr>\n",
       "  </tbody>\n",
       "</table>\n",
       "</div>"
      ],
      "text/plain": [
       "   Year                                     113 Cause Name  \\\n",
       "0  2016  Accidents (unintentional injuries) (V01-X59,Y8...   \n",
       "1  2016  Accidents (unintentional injuries) (V01-X59,Y8...   \n",
       "2  2016  Accidents (unintentional injuries) (V01-X59,Y8...   \n",
       "3  2016  Accidents (unintentional injuries) (V01-X59,Y8...   \n",
       "4  2016  Accidents (unintentional injuries) (V01-X59,Y8...   \n",
       "\n",
       "               Cause Name       State  Deaths  Age-adjusted Death Rate  \n",
       "0  Unintentional injuries     Alabama    2755                     55.5  \n",
       "1  Unintentional injuries      Alaska     439                     63.1  \n",
       "2  Unintentional injuries     Arizona    4010                     54.2  \n",
       "3  Unintentional injuries    Arkansas    1604                     51.8  \n",
       "4  Unintentional injuries  California   13213                     32.0  "
      ]
     },
     "execution_count": 61,
     "metadata": {},
     "output_type": "execute_result"
    }
   ],
   "source": [
    "import pandas as pd\n",
    "dfh = pd.read_csv(\"data/NCHS_-_Leading_Causes_of_Death__United_States.csv\")\n",
    "dfh.head()"
   ]
  },
  {
   "cell_type": "markdown",
   "metadata": {
    "collapsed": true
   },
   "source": [
    "How many patients were censored"
   ]
  },
  {
   "cell_type": "code",
   "execution_count": null,
   "metadata": {},
   "outputs": [],
   "source": [
    "0"
   ]
  },
  {
   "cell_type": "code",
   "execution_count": null,
   "metadata": {},
   "outputs": [],
   "source": []
  },
  {
   "cell_type": "code",
   "execution_count": null,
   "metadata": {},
   "outputs": [],
   "source": [
    "What is the correlation coefficient between state and Suicide for deaths above 100 ?"
   ]
  },
  {
   "cell_type": "code",
   "execution_count": null,
   "metadata": {},
   "outputs": [],
   "source": [
    "What is the average deaths for each state and type of cause ?"
   ]
  },
  {
   "cell_type": "code",
   "execution_count": null,
   "metadata": {},
   "outputs": [],
   "source": [
    "What is the year that was the most deadly for each cause name ?"
   ]
  },
  {
   "cell_type": "code",
   "execution_count": null,
   "metadata": {},
   "outputs": [],
   "source": [
    "Linear Regression - a simple algebraic tool which attempts to find the “best” (generally straight) line fitting\n",
    "2 or more attributes, with one attribute (simple linear regression), or a combination of several\n",
    "(multiple linear regression), being used to predict another, the class attribute. \n",
    "See Example below:"
   ]
  },
  {
   "cell_type": "code",
   "execution_count": 96,
   "metadata": {},
   "outputs": [
    {
     "name": "stdout",
     "output_type": "stream",
     "text": [
      "[[ 0.88224397  0.31787752]\n",
      " [ 0.69363926  0.97803404]\n",
      " [ 0.16272021  0.86269947]\n",
      " [ 0.53736076  0.69912898]\n",
      " [ 0.95009004  0.3125831 ]\n",
      " [ 0.39357144  0.45608819]\n",
      " [ 0.6489467   0.8387278 ]\n",
      " [ 0.11722142  0.49983155]\n",
      " [ 0.34383244  0.46630897]\n",
      " [ 0.66536326  0.13749766]]\n",
      "[[ 0.70594698]\n",
      " [-0.27631055]]\n"
     ]
    },
    {
     "data": {
      "image/png": "[encoded data removed]",
      "text/plain": [
       "<Figure size 432x288 with 1 Axes>"
      ]
     },
     "metadata": {
      "needs_background": "light"
     },
     "output_type": "display_data"
    }
   ],
   "source": [
    "\n",
    "import numpy as np\n",
    "import matplotlib.pyplot as plt\n",
    "\n",
    "# Random data\n",
    "N = 10\n",
    "M = 2\n",
    "input = np.random.random((N,M))\n",
    "print input \n",
    "\n",
    "# Setup matrices\n",
    "m = np.shape(input)[0]\n",
    "X = np.matrix([np.ones(m), input[:,0]]).T\n",
    "y = np.matrix(input[:,1]).T\n",
    "\n",
    "# Solve for projection matrix\n",
    "p_mat = np.linalg.inv(X.T.dot(X)).dot(X.T).dot(y)\n",
    "print p_mat\n",
    "\n",
    "# Find regression line\n",
    "xx = np.linspace(0, 1, 2)\n",
    "yy = np.array(p_mat[0] + p_mat[1] * xx)\n",
    "\n",
    "# Plot data, regression line\n",
    "plt.figure(1)\n",
    "plt.plot(xx, yy.T, color='b')\n",
    "plt.scatter(input[:,0], input[:,1], color='r')\n",
    "plt.show()"
   ]
  },
  {
   "cell_type": "markdown",
   "metadata": {},
   "source": [
    "Reference: https://www.kdnuggets.com/2016/11/linear-regression-least-squares-matrix-multiplication-concise-technical-overview.html "
   ]
  }
 ],
 "metadata": {
  "kernelspec": {
   "display_name": "Python [default]",
   "language": "python",
   "name": "python2"
  },
  "language_info": {
   "codemirror_mode": {
    "name": "ipython",
    "version": 2
   },
   "file_extension": ".py",
   "mimetype": "text/x-python",
   "name": "python",
   "nbconvert_exporter": "python",
   "pygments_lexer": "ipython2",
   "version": "2.7.15"
  }
 },
 "nbformat": 4,
 "nbformat_minor": 2
}
