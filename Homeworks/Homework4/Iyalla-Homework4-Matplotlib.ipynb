{
 "cells": [
  {
   "cell_type": "code",
   "execution_count": 3,
   "metadata": {
    "collapsed": true,
    "deletable": true,
    "editable": true
   },
   "outputs": [],
   "source": [
    "%matplotlib inline\n",
    "import pandas as pd\n",
    "import numpy as np\n",
    "import matplotlib as mpl\n",
    "import matplotlib.pyplot as plt\n",
    "from numpy import arange, sin, pi"
   ]
  },
  {
   "cell_type": "markdown",
   "metadata": {
    "deletable": true,
    "editable": true
   },
   "source": [
    "#Homework 4\n",
    "\n",
    "Copy this notebook. Rename it as: YOURNAME-HW4-matplotlib-XX\n",
    "\n",
    "with your name replacing YOURNAME and the xx replaced with the date you submit or copy this HW.\n",
    "\n",
    ".\n",
    "\n",
    "Upload your completed jupyter notebook to elearning site in a zip labeled with your name, as a minimum something like YOURNAME-HW4.zip Do not put this notebook on your github.\n",
    "\n",
    "Couple of reference site:\n",
    "<ul>\n",
    "<li/>http://matplotlib.org/examples/pylab_examples/\n",
    "<li/>http://docs.scipy.org/doc/numpy/\n",
    "</ul>\n",
    "\n",
    "Do all the homeworks problems below:\n",
    "As noted doing the homework gets a 3 out of 5. To do more to create tutorials on how to create an interesting plot or set of plots that are not in this HW.\n",
    "\n",
    "Describe what you are doing so others can follow in creating the plots."
   ]
  },
  {
   "cell_type": "markdown",
   "metadata": {
    "deletable": true,
    "editable": true
   },
   "source": [
    "#### Homework 4.1\n",
    "\n",
    "4.1.a Create a figure with two subplots in a row.\n",
    "One shows a sine wave of x from with x = 0 ... 2*pi the other shows the tagent of x with the same range.\n",
    "Label the figures.\n",
    "\n",
    "Should look something like:\n",
    "<img src=\"./images/Figure_with_multipleplot.png\" width=\"300\" height=\"200\">\n",
    "\n"
   ]
  },
  {
   "cell_type": "code",
   "execution_count": 30,
   "metadata": {
    "collapsed": false,
    "deletable": true,
    "editable": true
   },
   "outputs": [
    {
     "data": {
      "image/png": "[encoded data removed]",
      "text/plain": [
       "<Figure size 432x216 with 2 Axes>"
      ]
     },
     "metadata": {},
     "output_type": "display_data"
    }
   ],
   "source": [
    "fig = plt.figure(figsize=(6,3))\n",
    "ax1 = fig.add_subplot(121)\n",
    "x = np.arange(0.0, 2*pi, 0.1)\n",
    "amplitude = np.sin(x)\n",
    "plt.plot(x, amplitude)\n",
    "ax1.set_title('Figure 1: Sine of X')\n",
    "ax1.set_xlabel('X')\n",
    "ax1.set_ylabel('Amplitude = sin(X)')\n",
    "plt.grid(True, which='both')\n",
    "plt.axhline(y=0, color='k')\n",
    "\n",
    "ax2 = fig.add_subplot(122)\n",
    "y = np.arange(0.0, 2*pi, 0.1)\n",
    "amplitude2 = np.tan(2*(x - (np.pi/2)))\n",
    "plt.plot(y, amplitude)\n",
    "ax2.set_title('Figure 2: Tangent of X')\n",
    "ax2.set_xlabel('X')\n",
    "ax2.set_ylabel('Amplitude = tan(X)')\n",
    "plt.tight_layout()\n",
    "\n",
    "plt.show()"
   ]
  },
  {
   "cell_type": "markdown",
   "metadata": {
    "deletable": true,
    "editable": true
   },
   "source": [
    "#### Homework 4.2\n",
    " "
   ]
  },
  {
   "cell_type": "markdown",
   "metadata": {
    "deletable": true,
    "editable": true
   },
   "source": [
    "Make a combined plot of a  red spiral with a scatter plot.\n",
    "\n",
    "The red spiral has r from 0 to 3 with steps of 0.1 and\n",
    "a theta of 2 * pi * r.\n",
    "\n",
    "The scatter uses the same theta as the spiral but the radius r is offset by a random value ranging from -.5 to .5.\n",
    "The size of the plotted locations is 100 * r^2 and the color uses theta.\n",
    "\n",
    "Use an alpha value of .4 for the colors in the scatter plot.\n",
    "Limit the size of the plot (rmax) to 2.5\n",
    " \n",
    " Should look something like:\n",
    "<img src=\"./images/lineplot_with_scatterplot.png\" width=\"300\" height=\"200\">\n"
   ]
  },
  {
   "cell_type": "code",
   "execution_count": null,
   "metadata": {
    "collapsed": true,
    "deletable": true,
    "editable": true
   },
   "outputs": [],
   "source": []
  },
  {
   "cell_type": "markdown",
   "metadata": {
    "deletable": true,
    "editable": true
   },
   "source": [
    "#### Homework 4.3\n",
    "Create a 2d histogram of 100000 points\n",
    "\n",
    "x is a generated from a normal random distribution \n",
    "\n",
    "y is generated from a geometric random value witha p=.01 \n",
    "Use the LogNorm color settings for hist2d.\n",
    "And show the colorbar as well.\n",
    "\n",
    "Should look something like:\n",
    "<img src=\"./images/2d_histogram.png\" width=\"300\" height=\"200\">\n"
   ]
  },
  {
   "cell_type": "code",
   "execution_count": null,
   "metadata": {
    "collapsed": true,
    "deletable": true,
    "editable": true
   },
   "outputs": [],
   "source": []
  },
  {
   "cell_type": "markdown",
   "metadata": {
    "deletable": true,
    "editable": true
   },
   "source": [
    "#### Homework 4.4\n",
    "Show the same data in homewowrk 4.3 in a 3d plot.\n",
    "Use a numpy.histrogram2d funtion to generate the data:\n",
    "    http://docs.scipy.org/doc/numpy/reference/generated/numpy.histogram2d.html\n",
    "\n",
    "Need to use statements:\n",
    "\n",
    "<em>from mpl_toolkits.mplot3d import Axes<br/>\n",
    "fig = plt.figure()<br/>\n",
    "ax = fig.gca(projection='3d')</em>\n",
    "\n",
    "...\n",
    "\n",
    "ax.plot_surface(xm,ym,hist,rstride=1,cstride=1,cmap=plt.cm.jet)\n",
    "\n",
    "</em>\n",
    "\n",
    "Should look something like:\n",
    "<img src=\"./images/3dplot.png\" width=\"300\" height=\"200\">\n"
   ]
  },
  {
   "cell_type": "code",
   "execution_count": null,
   "metadata": {
    "collapsed": true,
    "deletable": true,
    "editable": true
   },
   "outputs": [],
   "source": []
  },
  {
   "cell_type": "code",
   "execution_count": null,
   "metadata": {
    "collapsed": true,
    "deletable": true,
    "editable": true
   },
   "outputs": [],
   "source": []
  }
 ],
 "metadata": {
  "kernelspec": {
   "display_name": "Python [default]",
   "language": "python",
   "name": "python2"
  },
  "language_info": {
   "codemirror_mode": {
    "name": "ipython",
    "version": 2
   },
   "file_extension": ".py",
   "mimetype": "text/x-python",
   "name": "python",
   "nbconvert_exporter": "python",
   "pygments_lexer": "ipython2",
   "version": "2.7.3"
  }
 },
 "nbformat": 4,
 "nbformat_minor": 1
}
