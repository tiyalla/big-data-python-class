{
 "cells": [
  {
   "cell_type": "markdown",
   "metadata": {},
   "source": [
    "#Link Analysis\n",
    "Need to collect data from the net\n",
    "\n",
    "## Simple Spiders \n",
    "Tools to collect links from the internet. We will use a simple tool called Scrappy.\n",
    "http://doc.scrapy.org/\n",
    "\n",
    "pip install Scrapy\n",
    "\n",
    "Starting a tutorial project in the code directory:\n",
    "http://doc.scrapy.org/en/latest/intro/tutorial.html\n",
    "\n",
    "mkdir code\n",
    "cd code\n",
    "scrapy startproject tutorial\n",
    "cd tutorial\n",
    "scrapy  genspider  example example.com"
   ]
  },
  {
   "cell_type": "code",
   "execution_count": 1,
   "metadata": {},
   "outputs": [
    {
     "name": "stdout",
     "output_type": "stream",
     "text": [
      "Collecting Scrapy\n",
      "  Downloading https://files.pythonhosted.org/packages/5d/12/a6197eaf97385e96fd8ec56627749a6229a9b3178ad73866a0b1fb377379/Scrapy-1.5.1-py2.py3-none-any.whl (249kB)\n",
      "Requirement already satisfied: lxml in c:\\users\\tonye iyalla\\anaconda2\\lib\\site-packages (from Scrapy) (4.2.5)\n",
      "Collecting PyDispatcher>=2.0.5 (from Scrapy)\n",
      "  Downloading https://files.pythonhosted.org/packages/cd/37/39aca520918ce1935bea9c356bcbb7ed7e52ad4e31bff9b943dfc8e7115b/PyDispatcher-2.0.5.tar.gz\n",
      "Requirement already satisfied: Twisted>=13.1.0 in c:\\users\\tonye iyalla\\anaconda2\\lib\\site-packages (from Scrapy) (18.7.0)\n",
      "Requirement already satisfied: pyOpenSSL in c:\\users\\tonye iyalla\\anaconda2\\lib\\site-packages (from Scrapy) (18.0.0)\n",
      "Collecting queuelib (from Scrapy)\n",
      "  Downloading https://files.pythonhosted.org/packages/4c/85/ae64e9145f39dd6d14f8af3fa809a270ef3729f3b90b3c0cf5aa242ab0d4/queuelib-1.5.0-py2.py3-none-any.whl\n",
      "Collecting cssselect>=0.9 (from Scrapy)\n",
      "  Downloading https://files.pythonhosted.org/packages/7b/44/25b7283e50585f0b4156960691d951b05d061abf4a714078393e51929b30/cssselect-1.0.3-py2.py3-none-any.whl\n",
      "Collecting parsel>=1.1 (from Scrapy)\n",
      "  Downloading https://files.pythonhosted.org/packages/96/69/d1d5dba5e4fecd41ffd71345863ed36a45975812c06ba77798fc15db6a64/parsel-1.5.1-py2.py3-none-any.whl\n",
      "Requirement already satisfied: service-identity in c:\\users\\tonye iyalla\\anaconda2\\lib\\site-packages (from Scrapy) (17.0.0)\n",
      "Requirement already satisfied: six>=1.5.2 in c:\\users\\tonye iyalla\\anaconda2\\lib\\site-packages (from Scrapy) (1.11.0)\n",
      "Collecting w3lib>=1.17.0 (from Scrapy)\n",
      "  Downloading https://files.pythonhosted.org/packages/37/94/40c93ad0cadac0f8cb729e1668823c71532fd4a7361b141aec535acb68e3/w3lib-1.19.0-py2.py3-none-any.whl\n",
      "Requirement already satisfied: zope.interface>=4.4.2 in c:\\users\\tonye iyalla\\anaconda2\\lib\\site-packages (from Twisted>=13.1.0->Scrapy) (4.5.0)\n",
      "Requirement already satisfied: constantly>=15.1 in c:\\users\\tonye iyalla\\anaconda2\\lib\\site-packages (from Twisted>=13.1.0->Scrapy) (15.1.0)\n",
      "Requirement already satisfied: incremental>=16.10.1 in c:\\users\\tonye iyalla\\anaconda2\\lib\\site-packages (from Twisted>=13.1.0->Scrapy) (17.5.0)\n",
      "Requirement already satisfied: Automat>=0.3.0 in c:\\users\\tonye iyalla\\anaconda2\\lib\\site-packages (from Twisted>=13.1.0->Scrapy) (0.7.0)\n",
      "Requirement already satisfied: hyperlink>=17.1.1 in c:\\users\\tonye iyalla\\anaconda2\\lib\\site-packages (from Twisted>=13.1.0->Scrapy) (18.0.0)\n",
      "Collecting PyHamcrest>=1.9.0 (from Twisted>=13.1.0->Scrapy)\n",
      "  Downloading https://files.pythonhosted.org/packages/9a/d5/d37fd731b7d0e91afcc84577edeccf4638b4f9b82f5ffe2f8b62e2ddc609/PyHamcrest-1.9.0-py2.py3-none-any.whl (52kB)\n",
      "Requirement already satisfied: attrs>=17.4.0 in c:\\users\\tonye iyalla\\anaconda2\\lib\\site-packages (from Twisted>=13.1.0->Scrapy) (18.2.0)\n",
      "Requirement already satisfied: cryptography>=2.2.1 in c:\\users\\tonye iyalla\\anaconda2\\lib\\site-packages (from pyOpenSSL->Scrapy) (2.3.1)\n",
      "Requirement already satisfied: functools32; python_version < \"3.0\" in c:\\users\\tonye iyalla\\anaconda2\\lib\\site-packages (from parsel>=1.1->Scrapy) (3.2.3.post2)\n",
      "Requirement already satisfied: pyasn1 in c:\\users\\tonye iyalla\\anaconda2\\lib\\site-packages (from service-identity->Scrapy) (0.4.4)\n",
      "Requirement already satisfied: pyasn1-modules in c:\\users\\tonye iyalla\\anaconda2\\lib\\site-packages (from service-identity->Scrapy) (0.2.2)\n",
      "Requirement already satisfied: setuptools in c:\\users\\tonye iyalla\\anaconda2\\lib\\site-packages (from zope.interface>=4.4.2->Twisted>=13.1.0->Scrapy) (40.2.0)\n",
      "Requirement already satisfied: idna>=2.5 in c:\\users\\tonye iyalla\\anaconda2\\lib\\site-packages (from hyperlink>=17.1.1->Twisted>=13.1.0->Scrapy) (2.7)\n",
      "Requirement already satisfied: asn1crypto>=0.21.0 in c:\\users\\tonye iyalla\\anaconda2\\lib\\site-packages (from cryptography>=2.2.1->pyOpenSSL->Scrapy) (0.24.0)\n",
      "Requirement already satisfied: enum34; python_version < \"3\" in c:\\users\\tonye iyalla\\anaconda2\\lib\\site-packages (from cryptography>=2.2.1->pyOpenSSL->Scrapy) (1.1.6)\n",
      "Requirement already satisfied: cffi!=1.11.3,>=1.7 in c:\\users\\tonye iyalla\\anaconda2\\lib\\site-packages (from cryptography>=2.2.1->pyOpenSSL->Scrapy) (1.11.5)\n",
      "Requirement already satisfied: ipaddress; python_version < \"3\" in c:\\users\\tonye iyalla\\anaconda2\\lib\\site-packages (from cryptography>=2.2.1->pyOpenSSL->Scrapy) (1.0.22)\n",
      "Requirement already satisfied: pycparser in c:\\users\\tonye iyalla\\anaconda2\\lib\\site-packages (from cffi!=1.11.3,>=1.7->cryptography>=2.2.1->pyOpenSSL->Scrapy) (2.18)\n",
      "Building wheels for collected packages: PyDispatcher\n",
      "  Running setup.py bdist_wheel for PyDispatcher: started\n",
      "  Running setup.py bdist_wheel for PyDispatcher: finished with status 'done'\n",
      "  Stored in directory: C:\\Users\\Tonye Iyalla\\AppData\\Local\\pip\\Cache\\wheels\\88\\99\\96\\cfef6665f9cb1522ee6757ae5955feedf2fe25f1737f91fa7f\n",
      "Successfully built PyDispatcher\n",
      "Installing collected packages: PyDispatcher, queuelib, cssselect, w3lib, parsel, Scrapy, PyHamcrest\n",
      "Successfully installed PyDispatcher-2.0.5 PyHamcrest-1.9.0 Scrapy-1.5.1 cssselect-1.0.3 parsel-1.5.1 queuelib-1.5.0 w3lib-1.19.0\n"
     ]
    },
    {
     "name": "stderr",
     "output_type": "stream",
     "text": [
      "grin 1.2.1 requires argparse>=1.1, which is not installed.\n",
      "You are using pip version 10.0.1, however version 18.1 is available.\n",
      "You should consider upgrading via the 'python -m pip install --upgrade pip' command.\n"
     ]
    }
   ],
   "source": [
    "!pip install Scrapy"
   ]
  },
  {
   "cell_type": "code",
   "execution_count": 2,
   "metadata": {},
   "outputs": [
    {
     "name": "stderr",
     "output_type": "stream",
     "text": [
      "'ls' is not recognized as an internal or external command,\n",
      "operable program or batch file.\n"
     ]
    }
   ],
   "source": [
    "!ls -Rl code/tutorial"
   ]
  },
  {
   "cell_type": "code",
   "execution_count": 10,
   "metadata": {},
   "outputs": [],
   "source": [
    "# %load code/tutorial/tutorial/items.py\n",
    "\n",
    "# Define here the models for your scraped items\n",
    "#\n",
    "# See documentation in:\n",
    "# http://doc.scrapy.org/en/latest/topics/items.html\n",
    "\n",
    "import scrapy\n",
    "\n",
    "\n",
    "class TutorialItem(scrapy.Item):\n",
    "    # define the fields for your item here like:\n",
    "    # name = scrapy.Field()\n",
    "    pass\n",
    "\n",
    "## Adding container to hold scraped data using scrapy.Item as the parent class\n",
    "class DmozItem(scrapy.Item):\n",
    "    title = scrapy.Field()\n",
    "    link = scrapy.Field()\n",
    "    desc = scrapy.Field()\n"
   ]
  },
  {
   "cell_type": "markdown",
   "metadata": {},
   "source": [
    "## Creating first spider\n",
    "create a file in the spider directory.\n",
    "Set the name, start_urls, parse fuction"
   ]
  },
  {
   "cell_type": "code",
   "execution_count": 11,
   "metadata": {},
   "outputs": [],
   "source": [
    "# %load code/tutorial/tutorial/spiders/dmoz_spider.py\n",
    "import scrapy\n",
    "\n",
    "class DmozSpider(scrapy.Spider):\n",
    "    name = \"dmoz\"\n",
    "    allowed_domains = [\"dmoz.org\"]\n",
    "    start_urls = [\"http://www.dmoz.org/Computers/Programming/Languages/Python/Books/\",\"http://www.dmoz.org/Computers/Programming/Languages/Python/Resources/\"]\n",
    "\n",
    "    def parse(self, response):\n",
    "                  f.write(response.body)\n"
   ]
  },
  {
   "cell_type": "code",
   "execution_count": 12,
   "metadata": {},
   "outputs": [
    {
     "name": "stdout",
     "output_type": "stream",
     "text": [
      "[Error 3] The system cannot find the path specified: u'code/tutorial'\n",
      "C:\\Users\\Tonye Iyalla\\Documents\\BigData\\big-data-python-class\\Lectures\\code\\tutorial\n"
     ]
    }
   ],
   "source": [
    "cd code/tutorial "
   ]
  },
  {
   "cell_type": "code",
   "execution_count": 13,
   "metadata": {},
   "outputs": [],
   "source": [
    "import requests\n",
    "from scrapy.http import TextResponse\n",
    "\n",
    "#running scrappy to get a response from a URL\n",
    "r = requests.get('http://stackoverflow.com/')\n",
    "response = TextResponse(r.url, body=r.text, encoding='utf-8')"
   ]
  },
  {
   "cell_type": "code",
   "execution_count": 14,
   "metadata": {},
   "outputs": [
    {
     "name": "stdout",
     "output_type": "stream",
     "text": [
      "<200 https://stackoverflow.com/>\n"
     ]
    }
   ],
   "source": [
    "print response"
   ]
  },
  {
   "cell_type": "code",
   "execution_count": 15,
   "metadata": {},
   "outputs": [
    {
     "data": {
      "text/plain": [
       "[<Selector xpath='//title' data=u'<title>Stack Overflow - Where Developers'>]"
      ]
     },
     "execution_count": 15,
     "metadata": {},
     "output_type": "execute_result"
    }
   ],
   "source": [
    "#Using xpath to access data\n",
    "response.xpath('//title')"
   ]
  },
  {
   "cell_type": "code",
   "execution_count": 16,
   "metadata": {},
   "outputs": [
    {
     "data": {
      "text/plain": [
       "[u'Stack Overflow - Where Developers Learn, Share, & Build Careers']"
      ]
     },
     "execution_count": 16,
     "metadata": {},
     "output_type": "execute_result"
    }
   ],
   "source": [
    " response.xpath('//title/text()').extract()"
   ]
  },
  {
   "cell_type": "code",
   "execution_count": 17,
   "metadata": {},
   "outputs": [
    {
     "data": {
      "text/plain": [
       "[<Selector xpath='//ul/li' data=u'<li class=\"grid\">\\r\\n                     '>,\n",
       " <Selector xpath='//ul/li' data=u'<li class=\"related-site grid\">\\r\\n        '>,\n",
       " <Selector xpath='//ul/li' data=u'<li>\\r\\n                        <a href=\"/'>,\n",
       " <Selector xpath='//ul/li' data=u'<li>\\r\\n                    <a href=\"/help'>,\n",
       " <Selector xpath='//ul/li' data=u'<li>\\r\\n                            <a hre'>,\n",
       " <Selector xpath='//ul/li' data=u'<li>\\r\\n                            <a hre'>,\n",
       " <Selector xpath='//ul/li' data=u'<li>\\r\\n                            <a hre'>,\n",
       " <Selector xpath='//ul/li' data=u'<li>\\r\\n                <div class=\"favico'>,\n",
       " <Selector xpath='//ul/li' data=u'<li>\\r\\n                <div class=\"favico'>,\n",
       " <Selector xpath='//ul/li' data=u'<li>\\r\\n                <div class=\"favico'>,\n",
       " <Selector xpath='//ul/li' data=u'<li>\\r\\n                <div class=\"favico'>,\n",
       " <Selector xpath='//ul/li' data=u'<li>\\r\\n                <div class=\"favico'>,\n",
       " <Selector xpath='//ul/li' data=u'<li>\\r\\n                <div class=\"favico'>,\n",
       " <Selector xpath='//ul/li' data=u'<li>\\r\\n                <div class=\"favico'>,\n",
       " <Selector xpath='//ul/li' data=u'<li>\\r\\n                <div class=\"favico'>,\n",
       " <Selector xpath='//ul/li' data=u'<li>\\r\\n                <div class=\"favico'>,\n",
       " <Selector xpath='//ul/li' data=u'<li>\\r\\n                <div class=\"favico'>,\n",
       " <Selector xpath='//ul/li' data=u'<li>\\r\\n                <div class=\"favico'>,\n",
       " <Selector xpath='//ul/li' data=u'<li>\\r\\n                <div class=\"favico'>,\n",
       " <Selector xpath='//ul/li' data=u'<li class=\"dno js-hidden\">\\r\\n            '>,\n",
       " <Selector xpath='//ul/li' data=u'<li class=\"dno js-hidden\">\\r\\n            '>,\n",
       " <Selector xpath='//ul/li' data=u'<li class=\"dno js-hidden\">\\r\\n            '>,\n",
       " <Selector xpath='//ul/li' data=u'<li class=\"dno js-hidden\">\\r\\n            '>,\n",
       " <Selector xpath='//ul/li' data=u'<li class=\"dno js-hidden\">\\r\\n            '>,\n",
       " <Selector xpath='//ul/li' data=u'<li class=\"dno js-hidden\">\\r\\n            '>,\n",
       " <Selector xpath='//ul/li' data=u'<li class=\"dno js-hidden\">\\r\\n            '>,\n",
       " <Selector xpath='//ul/li' data=u'<li class=\"dno js-hidden\">\\r\\n            '>,\n",
       " <Selector xpath='//ul/li' data=u'<li class=\"dno js-hidden\">\\r\\n            '>,\n",
       " <Selector xpath='//ul/li' data=u'<li class=\"dno js-hidden\">\\r\\n            '>,\n",
       " <Selector xpath='//ul/li' data=u'<li class=\"dno js-hidden\">\\r\\n            '>,\n",
       " <Selector xpath='//ul/li' data=u'<li class=\"dno js-hidden\">\\r\\n            '>,\n",
       " <Selector xpath='//ul/li' data=u'<li class=\"-item\"><a href=\"/questions\" c'>,\n",
       " <Selector xpath='//ul/li' data=u'<li class=\"-item\"><a href=\"https://stack'>,\n",
       " <Selector xpath='//ul/li' data=u'<li class=\"-item\"><a href=\"https://stack'>,\n",
       " <Selector xpath='//ul/li' data=u'<li class=\"-item\"><a href=\"https://stack'>,\n",
       " <Selector xpath='//ul/li' data=u'<li class=\"-item\"><a href=\"/help\" class='>,\n",
       " <Selector xpath='//ul/li' data=u'<li class=\"-item\"><a onclick=\\'StackExcha'>,\n",
       " <Selector xpath='//ul/li' data=u'<li class=\"-item\"><a href=\"https://stack'>,\n",
       " <Selector xpath='//ul/li' data=u'<li class=\"-item\"><a href=\"https://www.s'>,\n",
       " <Selector xpath='//ul/li' data=u'<li class=\"-item\"><a href=\"https://www.s'>,\n",
       " <Selector xpath='//ul/li' data=u'<li class=\"-item\"><a href=\"https://stack'>,\n",
       " <Selector xpath='//ul/li' data=u'<li class=\"-item\"><a class=\"js-gps-track'>,\n",
       " <Selector xpath='//ul/li' data=u'<li class=\"-item\"><a class=\"js-gps-track'>,\n",
       " <Selector xpath='//ul/li' data=u'<li class=\"-item\"><a class=\"js-gps-track'>,\n",
       " <Selector xpath='//ul/li' data=u'<li class=\"-item\"><a class=\"js-gps-track'>,\n",
       " <Selector xpath='//ul/li' data=u'<li class=\"-item\"><a class=\"js-gps-track'>,\n",
       " <Selector xpath='//ul/li' data=u'<li class=\"-item\"><a class=\"js-gps-track'>,\n",
       " <Selector xpath='//ul/li' data=u'<li class=\"-item\"><a href=\"#\" class=\"-li'>,\n",
       " <Selector xpath='//ul/li' data=u'<li class=\"-item\"><a href=\"#\" class=\"-li'>,\n",
       " <Selector xpath='//ul/li' data=u'<li class=\"-item\"><a href=\"#\" class=\"-li'>,\n",
       " <Selector xpath='//ul/li' data=u'<li class=\"-item\"><a href=\"#\" class=\"-li'>,\n",
       " <Selector xpath='//ul/li' data=u'<li class=\"-item\"><a href=\"#\" class=\"-li'>,\n",
       " <Selector xpath='//ul/li' data=u'<li class=\"-item\"><a href=\"https://stack'>,\n",
       " <Selector xpath='//ul/li' data=u'<li class=\"-item\"><a href=\"https://serve'>,\n",
       " <Selector xpath='//ul/li' data=u'<li class=\"-item\"><a href=\"https://super'>,\n",
       " <Selector xpath='//ul/li' data=u'<li class=\"-item\"><a href=\"https://webap'>,\n",
       " <Selector xpath='//ul/li' data=u'<li class=\"-item\"><a href=\"https://askub'>,\n",
       " <Selector xpath='//ul/li' data=u'<li class=\"-item\"><a href=\"https://webma'>,\n",
       " <Selector xpath='//ul/li' data=u'<li class=\"-item\"><a href=\"https://gamed'>,\n",
       " <Selector xpath='//ul/li' data=u'<li class=\"-item\"><a href=\"https://tex.s'>,\n",
       " <Selector xpath='//ul/li' data=u'<li class=\"-item\"><a href=\"https://softw'>,\n",
       " <Selector xpath='//ul/li' data=u'<li class=\"-item\"><a href=\"https://unix.'>,\n",
       " <Selector xpath='//ul/li' data=u'<li class=\"-item\"><a href=\"https://apple'>,\n",
       " <Selector xpath='//ul/li' data=u'<li class=\"-item\"><a href=\"https://wordp'>,\n",
       " <Selector xpath='//ul/li' data=u'<li class=\"-item\"><a href=\"https://gis.s'>,\n",
       " <Selector xpath='//ul/li' data=u'<li class=\"-item\"><a href=\"https://elect'>,\n",
       " <Selector xpath='//ul/li' data=u'<li class=\"-item\"><a href=\"https://andro'>,\n",
       " <Selector xpath='//ul/li' data=u'<li class=\"-item\"><a href=\"https://secur'>,\n",
       " <Selector xpath='//ul/li' data=u'<li class=\"-item\"><a href=\"https://dba.s'>,\n",
       " <Selector xpath='//ul/li' data=u'<li class=\"-item\"><a href=\"https://drupa'>,\n",
       " <Selector xpath='//ul/li' data=u'<li class=\"-item\"><a href=\"https://share'>,\n",
       " <Selector xpath='//ul/li' data=u'<li class=\"-item\"><a href=\"https://ux.st'>,\n",
       " <Selector xpath='//ul/li' data=u'<li class=\"-item\"><a href=\"https://mathe'>,\n",
       " <Selector xpath='//ul/li' data=u'<li class=\"-item\"><a href=\"https://sales'>,\n",
       " <Selector xpath='//ul/li' data=u'<li class=\"-item\"><a href=\"https://expre'>,\n",
       " <Selector xpath='//ul/li' data=u'<li class=\"-item\"><a href=\"https://pt.st'>,\n",
       " <Selector xpath='//ul/li' data=u'<li class=\"-item\"><a href=\"https://blend'>,\n",
       " <Selector xpath='//ul/li' data=u'<li class=\"-item\"><a href=\"https://netwo'>,\n",
       " <Selector xpath='//ul/li' data=u'<li class=\"-item\"><a href=\"https://crypt'>,\n",
       " <Selector xpath='//ul/li' data=u'<li class=\"-item\"><a href=\"https://coder'>,\n",
       " <Selector xpath='//ul/li' data=u'<li class=\"-item\"><a href=\"https://magen'>,\n",
       " <Selector xpath='//ul/li' data=u'<li class=\"-item\"><a href=\"https://softw'>,\n",
       " <Selector xpath='//ul/li' data=u'<li class=\"-item\"><a href=\"https://dsp.s'>,\n",
       " <Selector xpath='//ul/li' data=u'<li class=\"-item\"><a href=\"https://emacs'>,\n",
       " <Selector xpath='//ul/li' data=u'<li class=\"-item\"><a href=\"https://raspb'>,\n",
       " <Selector xpath='//ul/li' data=u'<li class=\"-item\"><a href=\"https://ru.st'>,\n",
       " <Selector xpath='//ul/li' data=u'<li class=\"-item\"><a href=\"https://codeg'>,\n",
       " <Selector xpath='//ul/li' data=u'<li class=\"-item\"><a href=\"https://es.st'>,\n",
       " <Selector xpath='//ul/li' data=u'<li class=\"-item\"><a href=\"https://ether'>,\n",
       " <Selector xpath='//ul/li' data=u'<li class=\"-item\"><a href=\"https://datas'>,\n",
       " <Selector xpath='//ul/li' data=u'<li class=\"-item\"><a href=\"https://ardui'>,\n",
       " <Selector xpath='//ul/li' data=u'<li class=\"-item\"><a href=\"https://bitco'>,\n",
       " <Selector xpath='//ul/li' data=u'<li class=\"-item\">\\r\\n                    '>,\n",
       " <Selector xpath='//ul/li' data=u'<li class=\"-item\"><a href=\"https://photo'>,\n",
       " <Selector xpath='//ul/li' data=u'<li class=\"-item\"><a href=\"https://scifi'>,\n",
       " <Selector xpath='//ul/li' data=u'<li class=\"-item\"><a href=\"https://graph'>,\n",
       " <Selector xpath='//ul/li' data=u'<li class=\"-item\"><a href=\"https://movie'>,\n",
       " <Selector xpath='//ul/li' data=u'<li class=\"-item\"><a href=\"https://music'>,\n",
       " <Selector xpath='//ul/li' data=u'<li class=\"-item\"><a href=\"https://world'>,\n",
       " <Selector xpath='//ul/li' data=u'<li class=\"-item\"><a href=\"https://cooki'>,\n",
       " <Selector xpath='//ul/li' data=u'<li class=\"-item\"><a href=\"https://diy.s'>,\n",
       " <Selector xpath='//ul/li' data=u'<li class=\"-item\"><a href=\"https://money'>,\n",
       " <Selector xpath='//ul/li' data=u'<li class=\"-item\"><a href=\"https://acade'>,\n",
       " <Selector xpath='//ul/li' data=u'<li class=\"-item\"><a href=\"https://law.s'>,\n",
       " <Selector xpath='//ul/li' data=u'<li class=\"-item\">\\r\\n                    '>,\n",
       " <Selector xpath='//ul/li' data=u'<li class=\"-item\"><a href=\"https://engli'>,\n",
       " <Selector xpath='//ul/li' data=u'<li class=\"-item\"><a href=\"https://skept'>,\n",
       " <Selector xpath='//ul/li' data=u'<li class=\"-item\"><a href=\"https://judai'>,\n",
       " <Selector xpath='//ul/li' data=u'<li class=\"-item\"><a href=\"https://trave'>,\n",
       " <Selector xpath='//ul/li' data=u'<li class=\"-item\"><a href=\"https://chris'>,\n",
       " <Selector xpath='//ul/li' data=u'<li class=\"-item\"><a href=\"https://ell.s'>,\n",
       " <Selector xpath='//ul/li' data=u'<li class=\"-item\"><a href=\"https://japan'>,\n",
       " <Selector xpath='//ul/li' data=u'<li class=\"-item\"><a href=\"https://gamin'>,\n",
       " <Selector xpath='//ul/li' data=u'<li class=\"-item\"><a href=\"https://bicyc'>,\n",
       " <Selector xpath='//ul/li' data=u'<li class=\"-item\"><a href=\"https://rpg.s'>,\n",
       " <Selector xpath='//ul/li' data=u'<li class=\"-item\"><a href=\"https://anime'>,\n",
       " <Selector xpath='//ul/li' data=u'<li class=\"-item\"><a href=\"https://puzzl'>,\n",
       " <Selector xpath='//ul/li' data=u'<li class=\"-item\"><a href=\"https://mecha'>,\n",
       " <Selector xpath='//ul/li' data=u'<li class=\"-item\">\\r\\n                    '>,\n",
       " <Selector xpath='//ul/li' data=u'<li class=\"-item\"><a href=\"https://matho'>,\n",
       " <Selector xpath='//ul/li' data=u'<li class=\"-item\"><a href=\"https://math.'>,\n",
       " <Selector xpath='//ul/li' data=u'<li class=\"-item\"><a href=\"https://stats'>,\n",
       " <Selector xpath='//ul/li' data=u'<li class=\"-item\"><a href=\"https://csthe'>,\n",
       " <Selector xpath='//ul/li' data=u'<li class=\"-item\"><a href=\"https://physi'>,\n",
       " <Selector xpath='//ul/li' data=u'<li class=\"-item\"><a href=\"https://chemi'>,\n",
       " <Selector xpath='//ul/li' data=u'<li class=\"-item\"><a href=\"https://biolo'>,\n",
       " <Selector xpath='//ul/li' data=u'<li class=\"-item\"><a href=\"https://cs.st'>,\n",
       " <Selector xpath='//ul/li' data=u'<li class=\"-item\"><a href=\"https://philo'>,\n",
       " <Selector xpath='//ul/li' data=u'<li class=\"-item\">\\r\\n                    '>,\n",
       " <Selector xpath='//ul/li' data=u'<li class=\"-item\"><a href=\"https://meta.'>,\n",
       " <Selector xpath='//ul/li' data=u'<li class=\"-item\"><a href=\"https://stack'>,\n",
       " <Selector xpath='//ul/li' data=u'<li class=\"-item\"><a href=\"https://api.s'>,\n",
       " <Selector xpath='//ul/li' data=u'<li class=\"-item\"><a href=\"https://data.'>,\n",
       " <Selector xpath='//ul/li' data=u'<li class=\"-item\"><a href=\"https://area5'>,\n",
       " <Selector xpath='//ul/li' data=u'<li class=\"-item\"><a class=\"js-gps-track'>,\n",
       " <Selector xpath='//ul/li' data=u'<li class=\"-item\"><a href=\"https://www.f'>,\n",
       " <Selector xpath='//ul/li' data=u'<li class=\"-item\"><a href=\"https://twitt'>,\n",
       " <Selector xpath='//ul/li' data=u'<li class=\"-item\"><a href=\"https://linke'>]"
      ]
     },
     "execution_count": 17,
     "metadata": {},
     "output_type": "execute_result"
    }
   ],
   "source": [
    "response.xpath('//ul/li')"
   ]
  },
  {
   "cell_type": "code",
   "execution_count": 18,
   "metadata": {},
   "outputs": [
    {
     "data": {
      "text/plain": [
       "[u'https://meta.stackoverflow.com',\n",
       " u'/tour',\n",
       " u'/help',\n",
       " u'https://meta.stackoverflow.com',\n",
       " u'https://stackoverflow.com/company/about',\n",
       " u'https://www.stackoverflowbusiness.com/?ref=topbar_help',\n",
       " u'https://superuser.com/questions/1374339/what-does-the-e-in-sudo-e-do',\n",
       " u'https://academia.stackexchange.com/questions/119373/how-to-handle-lecturer-who-doesnt-let-me-use-my-phone',\n",
       " u'https://rpg.stackexchange.com/questions/135252/is-war-casters-spell-still-considered-an-opportunity-attack',\n",
       " u'https://politics.stackexchange.com/questions/35240/why-would-the-president-not-just-fire-the-attorney-general',\n",
       " u'https://english.stackexchange.com/questions/471888/what-do-you-call-the-gesture-whereby-you-rest-your-palms-on-the-side-of-your-hip',\n",
       " u'https://ham.stackexchange.com/questions/12218/how-do-ptt-buttons-work',\n",
       " u'https://ux.stackexchange.com/questions/122057/how-to-design-intentional-friction-in-app',\n",
       " u'https://security.stackexchange.com/questions/197250/is-password-entry-being-recorded-on-camera-a-realistic-concern',\n",
       " u'https://retrocomputing.stackexchange.com/questions/8227/does-the-commodore-64-have-the-phx-opcode',\n",
       " u'https://apple.stackexchange.com/questions/342229/anyway-to-obtain-list-of-application-that-can-open-a-file-via-terminal',\n",
       " u'https://tex.stackexchange.com/questions/459323/how-can-i-make-a-curved-graph-in-tikz-and-vertical-lines-from-the-x-axis-to-that',\n",
       " u'https://tex.stackexchange.com/questions/459356/curvy-l-with-amssymb-package',\n",
       " u'https://ell.stackexchange.com/questions/185241/how-to-idiomatically-suggest-someone-should-live-the-day-and-forget-about-tomorr',\n",
       " u'https://outdoors.stackexchange.com/questions/21009/why-should-a-good-tent-be-uv-resistant',\n",
       " u'https://worldbuilding.stackexchange.com/questions/129795/how-could-a-species-have-naturally-developed-metalic-looking-hair',\n",
       " u'https://academia.stackexchange.com/questions/119614/can-i-say-no-when-my-principal-investigator-asks-me-to-help-cover-lectures-next',\n",
       " u'https://aviation.stackexchange.com/questions/56933/what-does-out-of-trim-mean',\n",
       " u'https://stackoverflow.com/questions/53225106/why-doesnt-my-compiler-recognise-bond-default',\n",
       " u'https://music.stackexchange.com/questions/76353/whats-the-point-of-composing-music-for-the-violin-in-d-flat',\n",
       " u'https://math.stackexchange.com/questions/2992845/why-are-partitions-and-equivalence-relations-the-same-thing',\n",
       " u'https://unix.stackexchange.com/questions/480929/determine-all-processes-running-by-root-with-2-columns-showing-pid-cmd',\n",
       " u'https://unix.stackexchange.com/questions/480776/is-there-a-posix-or-at-least-a-popular-utility-to-set-the-current-working-dire',\n",
       " u'https://cseducators.stackexchange.com/questions/5204/what-is-good-age-to-start-learning-programming',\n",
       " u'https://stats.stackexchange.com/questions/376311/the-meaning-of-bayesian-update',\n",
       " u'/questions',\n",
       " u'https://stackoverflow.com/jobs',\n",
       " u'https://stackoverflow.com/jobs/directory/developer-jobs',\n",
       " u'https://stackoverflow.com/jobs/salary',\n",
       " u'/help',\n",
       " u'https://stackoverflow.com/teams',\n",
       " u'https://www.stackoverflowbusiness.com/talent',\n",
       " u'https://www.stackoverflowbusiness.com/advertise',\n",
       " u'https://stackoverflow.com/enterprise',\n",
       " u'https://stackoverflow.com/company/about',\n",
       " u'https://stackoverflow.com/company/press',\n",
       " u'https://stackoverflow.com/company/work-here',\n",
       " u'https://stackoverflow.com/legal',\n",
       " u'https://stackoverflow.com/legal/privacy-policy',\n",
       " u'https://stackoverflow.com/company/contact',\n",
       " u'#',\n",
       " u'#',\n",
       " u'#',\n",
       " u'#',\n",
       " u'#',\n",
       " u'https://stackoverflow.com',\n",
       " u'https://serverfault.com',\n",
       " u'https://superuser.com',\n",
       " u'https://webapps.stackexchange.com',\n",
       " u'https://askubuntu.com',\n",
       " u'https://webmasters.stackexchange.com',\n",
       " u'https://gamedev.stackexchange.com',\n",
       " u'https://tex.stackexchange.com',\n",
       " u'https://softwareengineering.stackexchange.com',\n",
       " u'https://unix.stackexchange.com',\n",
       " u'https://apple.stackexchange.com',\n",
       " u'https://wordpress.stackexchange.com',\n",
       " u'https://gis.stackexchange.com',\n",
       " u'https://electronics.stackexchange.com',\n",
       " u'https://android.stackexchange.com',\n",
       " u'https://security.stackexchange.com',\n",
       " u'https://dba.stackexchange.com',\n",
       " u'https://drupal.stackexchange.com',\n",
       " u'https://sharepoint.stackexchange.com',\n",
       " u'https://ux.stackexchange.com',\n",
       " u'https://mathematica.stackexchange.com',\n",
       " u'https://salesforce.stackexchange.com',\n",
       " u'https://expressionengine.stackexchange.com',\n",
       " u'https://pt.stackoverflow.com',\n",
       " u'https://blender.stackexchange.com',\n",
       " u'https://networkengineering.stackexchange.com',\n",
       " u'https://crypto.stackexchange.com',\n",
       " u'https://codereview.stackexchange.com',\n",
       " u'https://magento.stackexchange.com',\n",
       " u'https://softwarerecs.stackexchange.com',\n",
       " u'https://dsp.stackexchange.com',\n",
       " u'https://emacs.stackexchange.com',\n",
       " u'https://raspberrypi.stackexchange.com',\n",
       " u'https://ru.stackoverflow.com',\n",
       " u'https://codegolf.stackexchange.com',\n",
       " u'https://es.stackoverflow.com',\n",
       " u'https://ethereum.stackexchange.com',\n",
       " u'https://datascience.stackexchange.com',\n",
       " u'https://arduino.stackexchange.com',\n",
       " u'https://bitcoin.stackexchange.com',\n",
       " u'https://stackexchange.com/sites#technology',\n",
       " u'https://photo.stackexchange.com',\n",
       " u'https://scifi.stackexchange.com',\n",
       " u'https://graphicdesign.stackexchange.com',\n",
       " u'https://movies.stackexchange.com',\n",
       " u'https://music.stackexchange.com',\n",
       " u'https://worldbuilding.stackexchange.com',\n",
       " u'https://cooking.stackexchange.com',\n",
       " u'https://diy.stackexchange.com',\n",
       " u'https://money.stackexchange.com',\n",
       " u'https://academia.stackexchange.com',\n",
       " u'https://law.stackexchange.com',\n",
       " u'https://stackexchange.com/sites#lifearts',\n",
       " u'https://english.stackexchange.com',\n",
       " u'https://skeptics.stackexchange.com',\n",
       " u'https://judaism.stackexchange.com',\n",
       " u'https://travel.stackexchange.com',\n",
       " u'https://christianity.stackexchange.com',\n",
       " u'https://ell.stackexchange.com',\n",
       " u'https://japanese.stackexchange.com',\n",
       " u'https://gaming.stackexchange.com',\n",
       " u'https://bicycles.stackexchange.com',\n",
       " u'https://rpg.stackexchange.com',\n",
       " u'https://anime.stackexchange.com',\n",
       " u'https://puzzling.stackexchange.com',\n",
       " u'https://mechanics.stackexchange.com',\n",
       " u'https://stackexchange.com/sites#culturerecreation',\n",
       " u'https://mathoverflow.net',\n",
       " u'https://math.stackexchange.com',\n",
       " u'https://stats.stackexchange.com',\n",
       " u'https://cstheory.stackexchange.com',\n",
       " u'https://physics.stackexchange.com',\n",
       " u'https://chemistry.stackexchange.com',\n",
       " u'https://biology.stackexchange.com',\n",
       " u'https://cs.stackexchange.com',\n",
       " u'https://philosophy.stackexchange.com',\n",
       " u'https://stackexchange.com/sites#science',\n",
       " u'https://meta.stackexchange.com',\n",
       " u'https://stackapps.com',\n",
       " u'https://api.stackexchange.com',\n",
       " u'https://data.stackexchange.com',\n",
       " u'https://area51.stackexchange.com',\n",
       " u'https://stackoverflow.blog?blb=1',\n",
       " u'https://www.facebook.com/officialstackoverflow/',\n",
       " u'https://twitter.com/stackoverflow',\n",
       " u'https://linkedin.com/company/stack-overflow']"
      ]
     },
     "execution_count": 18,
     "metadata": {},
     "output_type": "execute_result"
    }
   ],
   "source": [
    "response.xpath('//ul/li/a/@href').extract()"
   ]
  },
  {
   "cell_type": "markdown",
   "metadata": {
    "collapsed": true
   },
   "source": [
    "## Scrapy shell\n",
    "\n",
    "In a command window/ terminal window\n",
    "\n",
    "go to the tutorial project directory and type \n",
    "scrapy shell \"http://www.dmoz.org/Computers/Programming/Languages/Python/Books/\"\n",
    "\n",
    "Try running the crawler to see the response using\n",
    "scrapy crawl dmoz "
   ]
  },
  {
   "cell_type": "markdown",
   "metadata": {},
   "source": [
    "Let's try an example crawler that creates a csv from:\n",
    "\n",
    "https://github.com/mjhea0/Scrapy-Samples/tree/master/crawlspider\n",
    "    \n",
    "I cloned the code as part of the code directory code/Scrapy-Samples-master\n",
    "and added a parent URL in the output csv file it can be run by using:\n",
    "\n",
    "cd to the code/Scrapy-Samples-master/crawlspider \n",
    "and run:\n",
    "scrapy crawl craigs -o items.csv -t csv\n",
    "\n",
    "Sample 20 lines from the csv file.."
   ]
  },
  {
   "cell_type": "code",
   "execution_count": 4,
   "metadata": {},
   "outputs": [
    {
     "ename": "SyntaxError",
     "evalue": "invalid syntax (<ipython-input-4-0452a871d97d>, line 3)",
     "output_type": "error",
     "traceback": [
      "\u001b[1;36m  File \u001b[1;32m\"<ipython-input-4-0452a871d97d>\"\u001b[1;36m, line \u001b[1;32m3\u001b[0m\n\u001b[1;33m    pen(/npo/5295330281.html,http://sfbay.craigslist.org/search/npo?s=100,Residential, Counselor:, 8am-1pm, M-F)\u001b[0m\n\u001b[1;37m        ^\u001b[0m\n\u001b[1;31mSyntaxError\u001b[0m\u001b[1;31m:\u001b[0m invalid syntax\n"
     ]
    }
   ],
   "source": [
    "# %load -r 1-20  code/Scrapy-Samples-master/crawlspider/items.csv\n",
    "link,parent,title\n",
    "/pen/npo/5295330281.html,http://sfbay.craigslist.org/search/npo?s=100,Residential Counselor: 8am-1pm M-F\n",
    "/sby/npo/5295329495.html,http://sfbay.craigslist.org/search/npo?s=100,Residential Counselor-Teen Group Home: Graveyard\n",
    "/pen/npo/5295329005.html,http://sfbay.craigslist.org/search/npo?s=100,Residential Counselor: Teen Group Home (sexually exploited) Graveyard\n",
    "/pen/npo/5295328420.html,http://sfbay.craigslist.org/search/npo?s=100,Residential Counselor: Teen Group Home (sexually exploited) Graveyard\n",
    "/pen/npo/5295319941.html,http://sfbay.craigslist.org/search/npo?s=100,Open House 11/5 9am-12pm! Residential Counselor: Teen Group Home\n",
    "/sby/npo/5295318633.html,http://sfbay.craigslist.org/search/npo?s=100,Open House 11/5 9am-12pm! Residential Counselor: Teen Group Home\n",
    "/sby/npo/5295314523.html,http://sfbay.craigslist.org/search/npo?s=100,Open House! Residential Counselor: Teen Group Home\n",
    "/pen/npo/5295313019.html,http://sfbay.craigslist.org/search/npo?s=100,Open House! Residential Counselor: Teen Group Home\n",
    "/nby/npo/5293967692.html,http://sfbay.craigslist.org/search/npo?s=100,\"Mental Health: part-time Care Manager, Sun-Wed\"\n",
    "/eby/npo/5293356884.html,http://sfbay.craigslist.org/search/npo?s=100,Executive Assistant for Progressive Organizations - Full or Part Time\n",
    "/sfc/npo/5293340020.html,http://sfbay.craigslist.org/search/npo?s=100,Curriculum & Instruction Director - Level Playing Field Institute\n",
    "/sfc/npo/5293326898.html,http://sfbay.craigslist.org/search/npo?s=100,Site Director - Level Playing Field\n",
    "/nby/npo/5293324327.html,http://sfbay.craigslist.org/search/npo?s=100,Residential Treatment Evening/Weekend Supervisor\n",
    "/nby/npo/5293323754.html,http://sfbay.craigslist.org/search/npo?s=100,Group Counselor\n",
    "/eby/npo/5293294634.html,http://sfbay.craigslist.org/search/npo?s=100,Job Developer / Vocational Counselor\n",
    "/nby/npo/5293293327.html,http://sfbay.craigslist.org/search/npo?s=100,Counselor / Case Managers\n",
    "/nby/npo/5293292799.html,http://sfbay.craigslist.org/search/npo?s=100,Assistant Program Director\n",
    "/sfc/npo/5293292256.html,http://sfbay.craigslist.org/search/npo?s=100,PROGRAM MANAGER\n",
    "/nby/npo/5293291685.html,http://sfbay.craigslist.org/search/npo?s=100,Licensed Therapist - Part Time"
   ]
  },
  {
   "cell_type": "code",
   "execution_count": 15,
   "metadata": {},
   "outputs": [],
   "source": []
  },
  {
   "cell_type": "markdown",
   "metadata": {},
   "source": [
    "\n",
    "        I am including implmentations of page rank and hits from\n",
    "    https://cs7083.wordpress.com/2013/01/31/demystifying-the-pagerank-and-hits-algorithms/"
   ]
  },
  {
   "cell_type": "code",
   "execution_count": 1,
   "metadata": {},
   "outputs": [],
   "source": [
    "from numpy import *\n",
    " \n",
    "def pagerank(H):\n",
    "    n= len(H)\n",
    "    w = zeros(n)\n",
    "    rho = 1./n * ones(n);\n",
    "    for i in range(n):\n",
    "      if multiply.reduce(H[i]== zeros(n)):\n",
    "        w[i] = 1\n",
    "    newH = H + outer((1./n * w),ones(n))\n",
    " \n",
    "    theta=0.85\n",
    "    G = (theta * newH) + ((1-theta) * outer(1./n * ones(n), ones(n)))\n",
    "    print rho\n",
    "    for j in range(10):\n",
    "        rho = dot(rho,G)\n",
    "        print rho"
   ]
  },
  {
   "cell_type": "code",
   "execution_count": 2,
   "metadata": {},
   "outputs": [],
   "source": [
    "def hits(A):\n",
    "    n= len(A)\n",
    "    Au= dot(transpose(A),A)\n",
    "    Hu = dot(A,transpose(A))\n",
    "    a = ones(n); h = ones(n)\n",
    "    print a,h\n",
    "    for j in range(5):\n",
    "        a = dot(a,Au)\n",
    "        a= a/sum(a)\n",
    "        h = dot(h,Hu)\n",
    "        h = h/ sum(h)\n",
    "        print a,h"
   ]
  },
  {
   "cell_type": "markdown",
   "metadata": {},
   "source": [
    "Now we would need to create the Stostic matrix to perfrom the analyis\n",
    "<img src=\"https://cs7083.files.wordpress.com/2013/01/b.png\">\n",
    "Now we would need to create the Stostic matrix to perfrom the analyis\n",
    "<img src=\"https://cs7083.files.wordpress.com/2013/01/a.png\">"
   ]
  },
  {
   "cell_type": "markdown",
   "metadata": {},
   "source": [
    "H2= array([[0, 1./2, 0, 0,1./2, 0], [0, 0, 1, 0, 0, 0],[ 1./3,1./3,0, 1./3, 0,0],[1./2, 0, 0, 0,1./2, 0],[1./2, 0, 0,1./2, 0,0],[0, 1./2 ,1./2,0,0,0]])"
   ]
  },
  {
   "cell_type": "code",
   "execution_count": 35,
   "metadata": {
    "collapsed": true
   },
   "outputs": [],
   "source": [
    "H2= array([[0, 1./2, 0, 0,1./2, 0], [0, 0, 1, 0, 0, 0],[ 1./3,1./3,0, 1./3, 0,0],[1./2, 0, 0, 0,1./2, 0],[1./2, 0, 0,1./2, 0,0],[0, 1./2 ,1./2,0,0,0]])"
   ]
  },
  {
   "cell_type": "code",
   "execution_count": 36,
   "metadata": {},
   "outputs": [
    {
     "name": "stdout",
     "output_type": "stream",
     "text": [
      "[ 0.16666667  0.16666667  0.16666667  0.16666667  0.16666667  0.16666667]\n",
      "[ 0.21388889  0.21388889  0.2375      0.14305556  0.16666667  0.025     ]\n",
      "[ 0.22392361  0.19381944  0.21743056  0.163125    0.17670139  0.025     ]\n",
      "[ 0.23103154  0.19239786  0.20037153  0.16170341  0.18949566  0.025     ]\n",
      "[ 0.23103154  0.19058534  0.19916318  0.16230759  0.19191236  0.025     ]\n",
      "[ 0.23197304  0.19024297  0.19762254  0.16299232  0.19216913  0.025     ]\n",
      "[ 0.23193667  0.1902066   0.19733153  0.16266493  0.19286028  0.025     ]\n",
      "[ 0.23200881  0.19010868  0.19730061  0.16287622  0.19270568  0.025     ]\n",
      "[ 0.23202414  0.19013058  0.19721738  0.16280175  0.19282614  0.025     ]\n",
      "[ 0.23202011  0.19011352  0.197236    0.16282937  0.19280101  0.025     ]\n",
      "[ 0.23202644  0.19011708  0.19722149  0.16282396  0.19281103  0.025     ]\n"
     ]
    }
   ],
   "source": [
    "pagerank(H2)"
   ]
  },
  {
   "cell_type": "code",
   "execution_count": 37,
   "metadata": {},
   "outputs": [
    {
     "name": "stdout",
     "output_type": "stream",
     "text": [
      "[ 1.  1.  1.  1.  1.  1.] [ 1.  1.  1.  1.  1.  1.]\n",
      "[ 0.26923077  0.26923077  0.11538462  0.19230769  0.15384615  0.        ] [ 0.16666667  0.06666667  0.26666667  0.16666667  0.16666667  0.16666667]\n",
      "[ 0.28378378  0.27027027  0.08783784  0.20945946  0.14864865  0.        ] [ 0.16666667  0.04166667  0.29166667  0.16666667  0.18452381  0.14880952]\n",
      "[ 0.29205607  0.26635514  0.0771028   0.21728972  0.14719626  0.        ] [ 0.16356108  0.03312629  0.30020704  0.16977226  0.19461698  0.13871636]\n",
      "[ 0.29650462  0.26355966  0.0723182   0.22097228  0.14664524  0.        ] [ 0.16131335  0.0296217   0.30371163  0.17201999  0.19985724  0.13347609]\n",
      "[ 0.29880066  0.26199338  0.07003033  0.22277364  0.14640199  0.        ] [ 0.16004659  0.02801275  0.30532058  0.17328675  0.20252544  0.1308079 ]\n"
     ]
    }
   ],
   "source": [
    "#For the HIT algorithm we only need the connectivity graph\n",
    "A2 = array([[0, 1, 0, 0,1, 0], [0, 0, 1, 0, 0, 0],[ 1,1,0, 1, 0,0],  [1,0,0,0,1,0], [1,0, 0,1, 0, 0],[0,1,1,0,0,0]])\n",
    "hits(A2)"
   ]
  },
  {
   "cell_type": "code",
   "execution_count": null,
   "metadata": {
    "collapsed": true
   },
   "outputs": [],
   "source": []
  }
 ],
 "metadata": {
  "kernelspec": {
   "display_name": "Python 2",
   "language": "python",
   "name": "python2"
  },
  "language_info": {
   "codemirror_mode": {
    "name": "ipython",
    "version": 2
   },
   "file_extension": ".py",
   "mimetype": "text/x-python",
   "name": "python",
   "nbconvert_exporter": "python",
   "pygments_lexer": "ipython2",
   "version": "2.7.15"
  }
 },
 "nbformat": 4,
 "nbformat_minor": 1
}
