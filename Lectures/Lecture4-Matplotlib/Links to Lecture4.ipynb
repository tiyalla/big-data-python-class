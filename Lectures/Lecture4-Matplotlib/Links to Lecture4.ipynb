{
 "cells": [
  {
   "cell_type": "markdown",
   "metadata": {
    "deletable": true,
    "editable": true
   },
   "source": [
    "# Data Visualization\n",
    "\n",
    "We will be using: \n",
    "\n",
    "3. Plotting and Visualization.ipynb \n",
    "from https://github.com/fonnesbeck/statistical-analysis-python-tutorial\n",
    "\n",
    "Download it locally into your jupyter notebook directory."
   ]
  }
 ],
 "metadata": {
  "kernelspec": {
   "display_name": "Python [default]",
   "language": "python",
   "name": "python2"
  },
  "language_info": {
   "codemirror_mode": {
    "name": "ipython",
    "version": 2
   },
   "file_extension": ".py",
   "mimetype": "text/x-python",
   "name": "python",
   "nbconvert_exporter": "python",
   "pygments_lexer": "ipython2",
   "version": "2.7.3"
  }
 },
 "nbformat": 4,
 "nbformat_minor": 2
}
