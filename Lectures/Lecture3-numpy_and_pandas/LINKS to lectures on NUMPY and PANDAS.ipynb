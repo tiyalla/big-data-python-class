{
 "cells": [
  {
   "cell_type": "markdown",
   "metadata": {
    "collapsed": true
   },
   "source": [
    "# Lecture 3.  NUMPY and PANDAS\n",
    "\n",
    "\n",
    "\n",
    "For NUMPY we will use: Lecture-2-Numpy.ipynb \n",
    "from https://github.com/jrjohansson/scientific-python-lectures\n",
    "\n",
    "\n",
    "For Pandas we will use\":  1. Introduction to Pandas.ipynb\n",
    "https://github.com/fonnesbeck/statistical-analysis-python-tutorial"
   ]
  }
 ],
 "metadata": {
  "kernelspec": {
   "display_name": "Python 2",
   "language": "python",
   "name": "python2"
  },
  "language_info": {
   "codemirror_mode": {
    "name": "ipython",
    "version": 2
   },
   "file_extension": ".py",
   "mimetype": "text/x-python",
   "name": "python",
   "nbconvert_exporter": "python",
   "pygments_lexer": "ipython2",
   "version": "2.7.3"
  }
 },
 "nbformat": 4,
 "nbformat_minor": 2
}
